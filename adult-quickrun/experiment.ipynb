{
 "cells": [
  {
   "cell_type": "markdown",
   "metadata": {},
   "source": [
    "# FL experiment with FairFed"
   ]
  },
  {
   "cell_type": "code",
   "execution_count": 1,
   "metadata": {},
   "outputs": [
    {
     "name": "stderr",
     "output_type": "stream",
     "text": [
      "/Users/martina/Desktop/fairfed-experiment/.venv/lib/python3.11/site-packages/declearn/model/tensorflow/utils/_gpu.py:71: UserWarning: Cannot use a GPU device: either CUDA is unavailable or no GPU is visible to tensorflow.\n",
      "  warnings.warn(\n"
     ]
    }
   ],
   "source": [
    "import os\n",
    "import glob\n",
    "import numpy as np\n",
    "import pandas as pd\n",
    "import tomllib as tl\n",
    "\n",
    "from model import network\n",
    "from declearn.quickrun import quickrun\n",
    "\n",
    "from sklearn.model_selection import train_test_split\n",
    "from sklearn.preprocessing import LabelEncoder, StandardScaler\n",
    "from sklearn.utils import shuffle\n",
    "from aif360.sklearn.datasets import fetch_adult"
   ]
  },
  {
   "cell_type": "markdown",
   "metadata": {},
   "source": [
    "## Model"
   ]
  },
  {
   "cell_type": "code",
   "execution_count": 2,
   "metadata": {},
   "outputs": [
    {
     "data": {
      "text/html": [
       "<pre style=\"white-space:pre;overflow-x:auto;line-height:normal;font-family:Menlo,'DejaVu Sans Mono',consolas,'Courier New',monospace\"><span style=\"font-weight: bold\">Model: \"sequential\"</span>\n",
       "</pre>\n"
      ],
      "text/plain": [
       "\u001b[1mModel: \"sequential\"\u001b[0m\n"
      ]
     },
     "metadata": {},
     "output_type": "display_data"
    },
    {
     "data": {
      "text/html": [
       "<pre style=\"white-space:pre;overflow-x:auto;line-height:normal;font-family:Menlo,'DejaVu Sans Mono',consolas,'Courier New',monospace\">┏━━━━━━━━━━━━━━━━━━━━━━━━━━━━━━━━━┳━━━━━━━━━━━━━━━━━━━━━━━━┳━━━━━━━━━━━━━━━┓\n",
       "┃<span style=\"font-weight: bold\"> Layer (type)                    </span>┃<span style=\"font-weight: bold\"> Output Shape           </span>┃<span style=\"font-weight: bold\">       Param # </span>┃\n",
       "┡━━━━━━━━━━━━━━━━━━━━━━━━━━━━━━━━━╇━━━━━━━━━━━━━━━━━━━━━━━━╇━━━━━━━━━━━━━━━┩\n",
       "│ dense (<span style=\"color: #0087ff; text-decoration-color: #0087ff\">Dense</span>)                   │ (<span style=\"color: #00d7ff; text-decoration-color: #00d7ff\">None</span>, <span style=\"color: #00af00; text-decoration-color: #00af00\">32</span>)             │           <span style=\"color: #00af00; text-decoration-color: #00af00\">384</span> │\n",
       "├─────────────────────────────────┼────────────────────────┼───────────────┤\n",
       "│ dense_1 (<span style=\"color: #0087ff; text-decoration-color: #0087ff\">Dense</span>)                 │ (<span style=\"color: #00d7ff; text-decoration-color: #00d7ff\">None</span>, <span style=\"color: #00af00; text-decoration-color: #00af00\">16</span>)             │           <span style=\"color: #00af00; text-decoration-color: #00af00\">528</span> │\n",
       "├─────────────────────────────────┼────────────────────────┼───────────────┤\n",
       "│ dense_2 (<span style=\"color: #0087ff; text-decoration-color: #0087ff\">Dense</span>)                 │ (<span style=\"color: #00d7ff; text-decoration-color: #00d7ff\">None</span>, <span style=\"color: #00af00; text-decoration-color: #00af00\">1</span>)              │            <span style=\"color: #00af00; text-decoration-color: #00af00\">17</span> │\n",
       "└─────────────────────────────────┴────────────────────────┴───────────────┘\n",
       "</pre>\n"
      ],
      "text/plain": [
       "┏━━━━━━━━━━━━━━━━━━━━━━━━━━━━━━━━━┳━━━━━━━━━━━━━━━━━━━━━━━━┳━━━━━━━━━━━━━━━┓\n",
       "┃\u001b[1m \u001b[0m\u001b[1mLayer (type)                   \u001b[0m\u001b[1m \u001b[0m┃\u001b[1m \u001b[0m\u001b[1mOutput Shape          \u001b[0m\u001b[1m \u001b[0m┃\u001b[1m \u001b[0m\u001b[1m      Param #\u001b[0m\u001b[1m \u001b[0m┃\n",
       "┡━━━━━━━━━━━━━━━━━━━━━━━━━━━━━━━━━╇━━━━━━━━━━━━━━━━━━━━━━━━╇━━━━━━━━━━━━━━━┩\n",
       "│ dense (\u001b[38;5;33mDense\u001b[0m)                   │ (\u001b[38;5;45mNone\u001b[0m, \u001b[38;5;34m32\u001b[0m)             │           \u001b[38;5;34m384\u001b[0m │\n",
       "├─────────────────────────────────┼────────────────────────┼───────────────┤\n",
       "│ dense_1 (\u001b[38;5;33mDense\u001b[0m)                 │ (\u001b[38;5;45mNone\u001b[0m, \u001b[38;5;34m16\u001b[0m)             │           \u001b[38;5;34m528\u001b[0m │\n",
       "├─────────────────────────────────┼────────────────────────┼───────────────┤\n",
       "│ dense_2 (\u001b[38;5;33mDense\u001b[0m)                 │ (\u001b[38;5;45mNone\u001b[0m, \u001b[38;5;34m1\u001b[0m)              │            \u001b[38;5;34m17\u001b[0m │\n",
       "└─────────────────────────────────┴────────────────────────┴───────────────┘\n"
      ]
     },
     "metadata": {},
     "output_type": "display_data"
    },
    {
     "data": {
      "text/html": [
       "<pre style=\"white-space:pre;overflow-x:auto;line-height:normal;font-family:Menlo,'DejaVu Sans Mono',consolas,'Courier New',monospace\"><span style=\"font-weight: bold\"> Total params: </span><span style=\"color: #00af00; text-decoration-color: #00af00\">929</span> (3.63 KB)\n",
       "</pre>\n"
      ],
      "text/plain": [
       "\u001b[1m Total params: \u001b[0m\u001b[38;5;34m929\u001b[0m (3.63 KB)\n"
      ]
     },
     "metadata": {},
     "output_type": "display_data"
    },
    {
     "data": {
      "text/html": [
       "<pre style=\"white-space:pre;overflow-x:auto;line-height:normal;font-family:Menlo,'DejaVu Sans Mono',consolas,'Courier New',monospace\"><span style=\"font-weight: bold\"> Trainable params: </span><span style=\"color: #00af00; text-decoration-color: #00af00\">929</span> (3.63 KB)\n",
       "</pre>\n"
      ],
      "text/plain": [
       "\u001b[1m Trainable params: \u001b[0m\u001b[38;5;34m929\u001b[0m (3.63 KB)\n"
      ]
     },
     "metadata": {},
     "output_type": "display_data"
    },
    {
     "data": {
      "text/html": [
       "<pre style=\"white-space:pre;overflow-x:auto;line-height:normal;font-family:Menlo,'DejaVu Sans Mono',consolas,'Courier New',monospace\"><span style=\"font-weight: bold\"> Non-trainable params: </span><span style=\"color: #00af00; text-decoration-color: #00af00\">0</span> (0.00 B)\n",
       "</pre>\n"
      ],
      "text/plain": [
       "\u001b[1m Non-trainable params: \u001b[0m\u001b[38;5;34m0\u001b[0m (0.00 B)\n"
      ]
     },
     "metadata": {},
     "output_type": "display_data"
    }
   ],
   "source": [
    "network.summary()  # network is a `tensorflow.keras.Model` instance"
   ]
  },
  {
   "cell_type": "markdown",
   "metadata": {},
   "source": [
    "## Run experiment"
   ]
  },
  {
   "cell_type": "code",
   "execution_count": 3,
   "metadata": {},
   "outputs": [
    {
     "name": "stderr",
     "output_type": "stream",
     "text": [
      "2025-02-04 11:43:24,625:Server:INFO: Server is now starting...\n",
      "2025-02-04 11:43:24,637:Server:INFO: server listening on 127.0.0.1:8765\n",
      "2025-02-04 11:43:24,637:Server:INFO: Starting clients registration process.\n",
      "2025-02-04 11:43:25,642:Server:INFO: connection open\n",
      "2025-02-04 11:43:25,643:Server:INFO: New connection from ('127.0.0.1', 54596)\n",
      "2025-02-04 11:43:25,644:Server:INFO: connection open\n",
      "2025-02-04 11:43:25,644:Server:INFO: New connection from ('127.0.0.1', 54597)\n",
      "2025-02-04 11:43:25,645:Server:INFO: connection open\n",
      "2025-02-04 11:43:25,646:Server:INFO: New connection from ('127.0.0.1', 54598)\n",
      "2025-02-04 11:43:25,647:Server:INFO: connection open\n",
      "2025-02-04 11:43:25,647:Server:INFO: New connection from ('127.0.0.1', 54599)\n",
      "2025-02-04 11:43:25,648:Server:INFO: connection open\n",
      "2025-02-04 11:43:25,650:Server:INFO: New connection from ('127.0.0.1', 54600)\n",
      "2025-02-04 11:43:25,654:Server:INFO: Registering client 'client_0' for training.\n",
      "2025-02-04 11:43:25,655:Server:INFO: Registering client 'client_1' for training.\n",
      "2025-02-04 11:43:25,656:Server:INFO: Registering client 'client_2' for training.\n",
      "2025-02-04 11:43:25,658:Server:INFO: Registering client 'client_3' for training.\n",
      "2025-02-04 11:43:25,659:Server:INFO: Registering client 'client_4' for training.\n",
      "2025-02-04 11:43:29,644:Server:INFO: Clients' registration is now complete.\n",
      "2025-02-04 11:43:29,645:Server:INFO: Sending initialization requests to clients.\n",
      "2025-02-04 11:43:30,664:Server:INFO: Waiting for clients' responses.\n",
      "2025-02-04 11:43:30,667:Server:INFO: Initialization was successful.\n",
      "2025-02-04 11:43:30,681:Server:INFO: Initiating training round 1\n",
      "2025-02-04 11:43:31,685:Server:INFO: Awaiting clients' training results.\n",
      "2025-02-04 11:43:31,690:Server:INFO: Conducting server-side optimization.\n",
      "2025-02-04 11:43:31,697:Server:INFO: Initiating evaluation round 1\n",
      "2025-02-04 11:43:32,537:client_0:MAJOR: Local scalar evaluation metrics: {'accuracy': 0.7706484641638225, 'precision': 0.6842105263157895, 'recall': 0.037900874635568516, 'f-score': 0.0718232044198895, 'loss': 0.546161981572877}\n",
      "2025-02-04 11:43:32,620:client_1:MAJOR: Local scalar evaluation metrics: {'accuracy': 0.7689419795221843, 'precision': 0.7560975609756098, 'recall': 0.044412607449856735, 'f-score': 0.08389715832205684, 'loss': 0.5483676507204466}\n",
      "2025-02-04 11:43:32,718:client_2:MAJOR: Local scalar evaluation metrics: {'accuracy': 0.7542662116040956, 'precision': 0.5961538461538461, 'recall': 0.04246575342465753, 'f-score': 0.0792838874680307, 'loss': 0.5519671571946388}\n",
      "2025-02-04 11:43:32,802:client_3:MAJOR: Local scalar evaluation metrics: {'accuracy': 0.7658703071672355, 'precision': 0.7674418604651163, 'recall': 0.0465444287729196, 'f-score': 0.08776595744680851, 'loss': 0.548309501771634}\n",
      "2025-02-04 11:43:32,890:client_4:MAJOR: Local scalar evaluation metrics: {'accuracy': 0.7539249146757679, 'precision': 0.6326530612244898, 'recall': 0.04223433242506812, 'f-score': 0.07918263090676884, 'loss': 0.5535017668183753}\n",
      "2025-02-04 11:43:32,892:Server:INFO: Awaiting clients' evaluation results.\n",
      "2025-02-04 11:43:33,895:Server:INFO: Aggregating evaluation results.\n",
      "2025-02-04 11:43:33,896:Server:INFO: Averaged loss is: 0.5496616116155943\n",
      "2025-02-04 11:43:33,897:Server:INFO: Other averaged scalar metrics are: {'accuracy': 0.7627303754266211, 'precision': 0.6816143497757847, 'recall': 0.04273263986505482, 'f-score': 0.08042328042328042, 'loss': 0.5496616116155943}\n",
      "2025-02-04 11:43:33,909:Server:INFO: Initiating training round 2\n",
      "2025-02-04 11:43:35,339:Server:INFO: Awaiting clients' training results.\n",
      "2025-02-04 11:43:36,344:Server:INFO: Conducting server-side optimization.\n",
      "2025-02-04 11:43:36,350:Server:INFO: Initiating evaluation round 2\n",
      "2025-02-04 11:43:37,460:client_0:MAJOR: Local scalar evaluation metrics: {'accuracy': 0.7890784982935154, 'precision': 0.8090909090909091, 'recall': 0.12973760932944606, 'f-score': 0.2236180904522613, 'loss': 0.4810206274937444}\n",
      "2025-02-04 11:43:37,538:client_1:MAJOR: Local scalar evaluation metrics: {'accuracy': 0.783617747440273, 'precision': 0.7909090909090909, 'recall': 0.12464183381088825, 'f-score': 0.21534653465346534, 'loss': 0.4816821192311752}\n",
      "2025-02-04 11:43:37,617:client_2:MAJOR: Local scalar evaluation metrics: {'accuracy': 0.7822525597269625, 'precision': 0.8108108108108109, 'recall': 0.1643835616438356, 'f-score': 0.2733485193621868, 'loss': 0.4834242679560144}\n",
      "2025-02-04 11:43:37,694:client_3:MAJOR: Local scalar evaluation metrics: {'accuracy': 0.7815699658703071, 'precision': 0.822429906542056, 'recall': 0.12411847672778561, 'f-score': 0.21568627450980393, 'loss': 0.4806788032779108}\n",
      "2025-02-04 11:43:37,772:client_4:MAJOR: Local scalar evaluation metrics: {'accuracy': 0.773037542662116, 'precision': 0.7674418604651163, 'recall': 0.13487738419618528, 'f-score': 0.22943221320973348, 'loss': 0.48856033440742885}\n",
      "2025-02-04 11:43:37,774:Server:INFO: Awaiting clients' evaluation results.\n",
      "2025-02-04 11:43:38,776:Server:INFO: Aggregating evaluation results.\n",
      "2025-02-04 11:43:38,777:Server:INFO: Averaged loss is: 0.48307323047325473\n",
      "2025-02-04 11:43:38,777:Server:INFO: Other averaged scalar metrics are: {'accuracy': 0.7819112627986348, 'precision': 0.7996688741721855, 'recall': 0.13578858588698342, 'f-score': 0.23215573179524152, 'loss': 0.48307323047325473}\n",
      "2025-02-04 11:43:38,784:Server:INFO: Initiating training round 3\n",
      "2025-02-04 11:43:40,238:Server:INFO: Awaiting clients' training results.\n",
      "2025-02-04 11:43:41,243:Server:INFO: Conducting server-side optimization.\n",
      "2025-02-04 11:43:41,249:Server:INFO: Initiating evaluation round 3\n",
      "2025-02-04 11:43:42,329:client_0:MAJOR: Local scalar evaluation metrics: {'accuracy': 0.8064846416382253, 'precision': 0.7874396135265701, 'recall': 0.23760932944606414, 'f-score': 0.3650615901455767, 'loss': 0.4441368563590196}\n",
      "2025-02-04 11:43:42,412:client_1:MAJOR: Local scalar evaluation metrics: {'accuracy': 0.8040955631399317, 'precision': 0.7870370370370371, 'recall': 0.24355300859598855, 'f-score': 0.37199124726477023, 'loss': 0.44289380614057744}\n",
      "2025-02-04 11:43:42,494:client_2:MAJOR: Local scalar evaluation metrics: {'accuracy': 0.7982935153583618, 'precision': 0.7642585551330798, 'recall': 0.27534246575342464, 'f-score': 0.40483383685800606, 'loss': 0.44408988090098517}\n",
      "2025-02-04 11:43:42,578:client_3:MAJOR: Local scalar evaluation metrics: {'accuracy': 0.7996587030716723, 'precision': 0.7824074074074074, 'recall': 0.2383638928067701, 'f-score': 0.3654054054054054, 'loss': 0.4406900469353581}\n",
      "2025-02-04 11:43:42,660:client_4:MAJOR: Local scalar evaluation metrics: {'accuracy': 0.7972696245733788, 'precision': 0.7845528455284553, 'recall': 0.26294277929155313, 'f-score': 0.39387755102040817, 'loss': 0.45004189083600615}\n",
      "2025-02-04 11:43:42,662:Server:INFO: Awaiting clients' evaluation results.\n",
      "2025-02-04 11:43:43,664:Server:INFO: Aggregating evaluation results.\n",
      "2025-02-04 11:43:43,666:Server:INFO: Averaged loss is: 0.4443704962343893\n",
      "2025-02-04 11:43:43,667:Server:INFO: Other averaged scalar metrics are: {'accuracy': 0.801160409556314, 'precision': 0.7804878048780488, 'recall': 0.25189766657295476, 'f-score': 0.3808714133900106, 'loss': 0.4443704962343893}\n",
      "2025-02-04 11:43:43,676:Server:INFO: Initiating training round 4\n",
      "2025-02-04 11:43:45,196:Server:INFO: Awaiting clients' training results.\n",
      "2025-02-04 11:43:46,199:Server:INFO: Conducting server-side optimization.\n",
      "2025-02-04 11:43:46,202:Server:INFO: Initiating evaluation round 4\n",
      "2025-02-04 11:43:47,319:client_0:MAJOR: Local scalar evaluation metrics: {'accuracy': 0.8122866894197952, 'precision': 0.7361111111111112, 'recall': 0.30903790087463556, 'f-score': 0.4353182751540041, 'loss': 0.42261377072578404}\n",
      "2025-02-04 11:43:47,397:client_1:MAJOR: Local scalar evaluation metrics: {'accuracy': 0.8133105802047782, 'precision': 0.7612456747404844, 'recall': 0.3151862464183381, 'f-score': 0.4457953394123607, 'loss': 0.4202506420250232}\n",
      "2025-02-04 11:43:47,474:client_2:MAJOR: Local scalar evaluation metrics: {'accuracy': 0.8102389078498293, 'precision': 0.7620481927710844, 'recall': 0.34657534246575344, 'f-score': 0.4764595103578154, 'loss': 0.42159219878525456}\n",
      "2025-02-04 11:43:47,554:client_3:MAJOR: Local scalar evaluation metrics: {'accuracy': 0.8102389078498293, 'precision': 0.7628865979381443, 'recall': 0.3131170662905501, 'f-score': 0.444, 'loss': 0.41664266399149197}\n",
      "2025-02-04 11:43:47,637:client_4:MAJOR: Local scalar evaluation metrics: {'accuracy': 0.8040955631399317, 'precision': 0.7409638554216867, 'recall': 0.335149863760218, 'f-score': 0.46153846153846156, 'loss': 0.42718423450359305}\n",
      "2025-02-04 11:43:47,639:Server:INFO: Awaiting clients' evaluation results.\n",
      "2025-02-04 11:43:47,640:Server:INFO: Aggregating evaluation results.\n",
      "2025-02-04 11:43:47,641:Server:INFO: Averaged loss is: 0.42165670200622934\n",
      "2025-02-04 11:43:47,641:Server:INFO: Other averaged scalar metrics are: {'accuracy': 0.8100341296928327, 'precision': 0.7526109660574413, 'recall': 0.3241495642395277, 'f-score': 0.453134211043427, 'loss': 0.42165670200622934}\n",
      "2025-02-04 11:43:47,644:Server:INFO: Initiating training round 5\n",
      "2025-02-04 11:43:48,646:Server:INFO: Awaiting clients' training results.\n",
      "2025-02-04 11:43:48,647:Server:INFO: Conducting server-side optimization.\n",
      "2025-02-04 11:43:48,650:Server:INFO: Initiating evaluation round 5\n",
      "2025-02-04 11:43:49,240:client_0:MAJOR: Local scalar evaluation metrics: {'accuracy': 0.8197952218430035, 'precision': 0.7309941520467836, 'recall': 0.36443148688046645, 'f-score': 0.48638132295719844, 'loss': 0.4087675151564562}\n",
      "2025-02-04 11:43:49,320:client_1:MAJOR: Local scalar evaluation metrics: {'accuracy': 0.8201365187713311, 'precision': 0.7537091988130564, 'recall': 0.3638968481375358, 'f-score': 0.49082125603864735, 'loss': 0.4056756829035567}\n",
      "2025-02-04 11:43:49,400:client_2:MAJOR: Local scalar evaluation metrics: {'accuracy': 0.8238907849829351, 'precision': 0.7772020725388601, 'recall': 0.410958904109589, 'f-score': 0.5376344086021505, 'loss': 0.40736135207752316}\n",
      "2025-02-04 11:43:49,477:client_3:MAJOR: Local scalar evaluation metrics: {'accuracy': 0.821160409556314, 'precision': 0.7728613569321534, 'recall': 0.3695345557122708, 'f-score': 0.5, 'loss': 0.4009694191376097}\n",
      "2025-02-04 11:43:49,555:client_4:MAJOR: Local scalar evaluation metrics: {'accuracy': 0.8150170648464163, 'precision': 0.7424242424242424, 'recall': 0.40054495912806537, 'f-score': 0.5203539823008849, 'loss': 0.4122530054313738}\n",
      "2025-02-04 11:43:49,652:Server:INFO: Awaiting clients' evaluation results.\n",
      "2025-02-04 11:43:49,653:Server:INFO: Aggregating evaluation results.\n",
      "2025-02-04 11:43:49,653:Server:INFO: Averaged loss is: 0.40700539494130394\n",
      "2025-02-04 11:43:49,654:Server:INFO: Other averaged scalar metrics are: {'accuracy': 0.82, 'precision': 0.7555555555555555, 'recall': 0.3823446724768063, 'f-score': 0.5077468732499534, 'loss': 0.40700539494130394}\n",
      "2025-02-04 11:43:49,658:Server:INFO: Initiating training round 6\n",
      "2025-02-04 11:43:51,013:Server:INFO: Awaiting clients' training results.\n",
      "2025-02-04 11:43:52,017:Server:INFO: Conducting server-side optimization.\n",
      "2025-02-04 11:43:52,024:Server:INFO: Initiating evaluation round 6\n",
      "2025-02-04 11:43:53,130:client_0:MAJOR: Local scalar evaluation metrics: {'accuracy': 0.8218430034129692, 'precision': 0.7135416666666666, 'recall': 0.39941690962099125, 'f-score': 0.5121495327102804, 'loss': 0.39890895963935724}\n",
      "2025-02-04 11:43:53,211:client_1:MAJOR: Local scalar evaluation metrics: {'accuracy': 0.826962457337884, 'precision': 0.7560321715817694, 'recall': 0.4040114613180516, 'f-score': 0.5266106442577031, 'loss': 0.3953083970644368}\n",
      "2025-02-04 11:43:53,290:client_2:MAJOR: Local scalar evaluation metrics: {'accuracy': 0.8262798634812286, 'precision': 0.7624703087885986, 'recall': 0.4397260273972603, 'f-score': 0.5577758470894874, 'loss': 0.3976188037989489}\n",
      "2025-02-04 11:43:53,395:client_3:MAJOR: Local scalar evaluation metrics: {'accuracy': 0.826962457337884, 'precision': 0.771505376344086, 'recall': 0.40479548660084624, 'f-score': 0.5309898242368177, 'loss': 0.38994174231441353}\n",
      "2025-02-04 11:43:53,473:client_4:MAJOR: Local scalar evaluation metrics: {'accuracy': 0.8174061433447098, 'precision': 0.7308584686774942, 'recall': 0.42915531335149865, 'f-score': 0.5407725321888412, 'loss': 0.40170999736916085}\n",
      "2025-02-04 11:43:53,475:Server:INFO: Awaiting clients' evaluation results.\n",
      "2025-02-04 11:43:54,477:Server:INFO: Aggregating evaluation results.\n",
      "2025-02-04 11:43:54,479:Server:INFO: Averaged loss is: 0.39669758003726346\n",
      "2025-02-04 11:43:54,480:Server:INFO: Other averaged scalar metrics are: {'accuracy': 0.8238907849829351, 'precision': 0.7465926299848561, 'recall': 0.4157998313185268, 'f-score': 0.5341278439869989, 'loss': 0.39669758003726346}\n",
      "2025-02-04 11:43:54,491:Server:INFO: Initiating training round 7\n",
      "2025-02-04 11:43:55,936:Server:INFO: Awaiting clients' training results.\n",
      "2025-02-04 11:43:56,940:Server:INFO: Conducting server-side optimization.\n",
      "2025-02-04 11:43:56,947:Server:INFO: Initiating evaluation round 7\n",
      "2025-02-04 11:43:58,058:client_0:MAJOR: Local scalar evaluation metrics: {'accuracy': 0.8255972696245734, 'precision': 0.7182044887780549, 'recall': 0.4198250728862974, 'f-score': 0.5298988040478381, 'loss': 0.3911733484105445}\n",
      "2025-02-04 11:43:58,136:client_1:MAJOR: Local scalar evaluation metrics: {'accuracy': 0.8276450511945392, 'precision': 0.7468030690537084, 'recall': 0.4183381088825215, 'f-score': 0.5362718089990818, 'loss': 0.38726895027905195}\n",
      "2025-02-04 11:43:58,215:client_2:MAJOR: Local scalar evaluation metrics: {'accuracy': 0.8276450511945392, 'precision': 0.7551020408163265, 'recall': 0.45616438356164385, 'f-score': 0.5687446626814688, 'loss': 0.39037361319968317}\n",
      "2025-02-04 11:43:58,294:client_3:MAJOR: Local scalar evaluation metrics: {'accuracy': 0.8283276450511945, 'precision': 0.7562189054726368, 'recall': 0.4287729196050776, 'f-score': 0.5472547254725473, 'loss': 0.3816646594643186}\n",
      "2025-02-04 11:43:58,373:client_4:MAJOR: Local scalar evaluation metrics: {'accuracy': 0.8187713310580205, 'precision': 0.7211328976034859, 'recall': 0.45095367847411444, 'f-score': 0.5549036043587594, 'loss': 0.3936254622993209}\n",
      "2025-02-04 11:43:58,375:Server:INFO: Awaiting clients' evaluation results.\n",
      "2025-02-04 11:43:58,375:Server:INFO: Aggregating evaluation results.\n",
      "2025-02-04 11:43:58,376:Server:INFO: Averaged loss is: 0.38882120673058385\n",
      "2025-02-04 11:43:58,376:Server:INFO: Other averaged scalar metrics are: {'accuracy': 0.8255972696245734, 'precision': 0.7392550143266475, 'recall': 0.43519820073095306, 'f-score': 0.5478676340470713, 'loss': 0.38882120673058385}\n",
      "2025-02-04 11:43:58,378:Server:INFO: Initiating training round 8\n",
      "2025-02-04 11:43:59,380:Server:INFO: Awaiting clients' training results.\n",
      "2025-02-04 11:43:59,383:Server:INFO: Conducting server-side optimization.\n",
      "2025-02-04 11:43:59,389:Server:INFO: Initiating evaluation round 8\n",
      "2025-02-04 11:43:59,918:client_0:MAJOR: Local scalar evaluation metrics: {'accuracy': 0.8255972696245734, 'precision': 0.711864406779661, 'recall': 0.42857142857142855, 'f-score': 0.535031847133758, 'loss': 0.3847403134095384}\n",
      "2025-02-04 11:43:59,999:client_1:MAJOR: Local scalar evaluation metrics: {'accuracy': 0.8313993174061434, 'precision': 0.7451923076923077, 'recall': 0.44412607449856734, 'f-score': 0.5565529622980251, 'loss': 0.38064833560596145}\n",
      "2025-02-04 11:44:00,077:client_2:MAJOR: Local scalar evaluation metrics: {'accuracy': 0.8296928327645051, 'precision': 0.7583892617449665, 'recall': 0.4643835616438356, 'f-score': 0.5760407816482583, 'loss': 0.3845963880063731}\n",
      "2025-02-04 11:44:00,156:client_3:MAJOR: Local scalar evaluation metrics: {'accuracy': 0.8303754266211604, 'precision': 0.7548076923076923, 'recall': 0.44287729196050774, 'f-score': 0.5582222222222222, 'loss': 0.3751040004626069}\n",
      "2025-02-04 11:44:00,235:client_4:MAJOR: Local scalar evaluation metrics: {'accuracy': 0.8215017064846416, 'precision': 0.7193347193347194, 'recall': 0.4713896457765668, 'f-score': 0.5695473251028806, 'loss': 0.3870185651876821}\n",
      "2025-02-04 11:44:00,392:Server:INFO: Awaiting clients' evaluation results.\n",
      "2025-02-04 11:44:00,393:Server:INFO: Aggregating evaluation results.\n",
      "2025-02-04 11:44:00,394:Server:INFO: Averaged loss is: 0.3824215205344324\n",
      "2025-02-04 11:44:00,394:Server:INFO: Other averaged scalar metrics are: {'accuracy': 0.8277133105802048, 'precision': 0.737689829728486, 'recall': 0.4506606691031768, 'f-score': 0.5595113438045375, 'loss': 0.3824215205344324}\n",
      "2025-02-04 11:44:00,400:Server:INFO: Initiating training round 9\n",
      "2025-02-04 11:44:01,701:Server:INFO: Awaiting clients' training results.\n",
      "2025-02-04 11:44:02,707:Server:INFO: Conducting server-side optimization.\n",
      "2025-02-04 11:44:02,713:Server:INFO: Initiating evaluation round 9\n",
      "2025-02-04 11:44:03,824:client_0:MAJOR: Local scalar evaluation metrics: {'accuracy': 0.8273037542662116, 'precision': 0.7112676056338029, 'recall': 0.44169096209912534, 'f-score': 0.5449640287769785, 'loss': 0.37912790352167125}\n",
      "2025-02-04 11:44:03,904:client_1:MAJOR: Local scalar evaluation metrics: {'accuracy': 0.8344709897610921, 'precision': 0.7470997679814385, 'recall': 0.46131805157593125, 'f-score': 0.5704162976085031, 'loss': 0.37500282954742475}\n",
      "2025-02-04 11:44:03,983:client_2:MAJOR: Local scalar evaluation metrics: {'accuracy': 0.8324232081911263, 'precision': 0.7614879649890591, 'recall': 0.4767123287671233, 'f-score': 0.586352148272957, 'loss': 0.3797143161093416}\n",
      "2025-02-04 11:44:04,061:client_3:MAJOR: Local scalar evaluation metrics: {'accuracy': 0.8348122866894198, 'precision': 0.7598152424942263, 'recall': 0.46403385049365303, 'f-score': 0.5761821366024519, 'loss': 0.36968522763496375}\n",
      "2025-02-04 11:44:04,140:client_4:MAJOR: Local scalar evaluation metrics: {'accuracy': 0.8204778156996587, 'precision': 0.7105263157894737, 'recall': 0.4782016348773842, 'f-score': 0.5716612377850163, 'loss': 0.38144123554229736}\n",
      "2025-02-04 11:44:04,142:Server:INFO: Awaiting clients' evaluation results.\n",
      "2025-02-04 11:44:05,144:Server:INFO: Aggregating evaluation results.\n",
      "2025-02-04 11:44:05,146:Server:INFO: Averaged loss is: 0.37699430247113974\n",
      "2025-02-04 11:44:05,147:Server:INFO: Other averaged scalar metrics are: {'accuracy': 0.8298976109215017, 'precision': 0.7376171352074966, 'recall': 0.4647174585324712, 'f-score': 0.5701966195239738, 'loss': 0.37699430247113974}\n",
      "2025-02-04 11:44:05,156:Server:INFO: Initiating training round 10\n",
      "2025-02-04 11:44:06,609:Server:INFO: Awaiting clients' training results.\n",
      "2025-02-04 11:44:07,614:Server:INFO: Conducting server-side optimization.\n",
      "2025-02-04 11:44:07,620:Server:INFO: Initiating evaluation round 10\n",
      "2025-02-04 11:44:08,731:client_0:MAJOR: Local scalar evaluation metrics: {'accuracy': 0.8300341296928327, 'precision': 0.716589861751152, 'recall': 0.45335276967930027, 'f-score': 0.5553571428571429, 'loss': 0.3741794672435461}\n",
      "2025-02-04 11:44:08,815:client_1:MAJOR: Local scalar evaluation metrics: {'accuracy': 0.8337883959044369, 'precision': 0.7414187643020596, 'recall': 0.46418338108882523, 'f-score': 0.5709251101321586, 'loss': 0.37012767598999236}\n",
      "2025-02-04 11:44:08,894:client_2:MAJOR: Local scalar evaluation metrics: {'accuracy': 0.8324232081911263, 'precision': 0.7580993520518359, 'recall': 0.4808219178082192, 'f-score': 0.5884325230511316, 'loss': 0.37548514535402683}\n",
      "2025-02-04 11:44:08,972:client_3:MAJOR: Local scalar evaluation metrics: {'accuracy': 0.8351535836177474, 'precision': 0.7568181818181818, 'recall': 0.4696755994358251, 'f-score': 0.5796344647519582, 'loss': 0.36499034325010543}\n",
      "2025-02-04 11:44:09,051:client_4:MAJOR: Local scalar evaluation metrics: {'accuracy': 0.8232081911262799, 'precision': 0.717741935483871, 'recall': 0.48501362397820164, 'f-score': 0.5788617886178862, 'loss': 0.37665434461404845}\n",
      "2025-02-04 11:44:09,053:Server:INFO: Awaiting clients' evaluation results.\n",
      "2025-02-04 11:44:10,055:Server:INFO: Aggregating evaluation results.\n",
      "2025-02-04 11:44:10,057:Server:INFO: Averaged loss is: 0.3722873952903438\n",
      "2025-02-04 11:44:10,058:Server:INFO: Other averaged scalar metrics are: {'accuracy': 0.8309215017064846, 'precision': 0.737885462555066, 'recall': 0.4709024458813607, 'f-score': 0.5749099021795092, 'loss': 0.3722873952903438}\n",
      "2025-02-04 11:44:10,068:Server:INFO: Maximum number of training rounds reached.\n",
      "2025-02-04 11:44:10,069:Server:INFO: Stopping training.\n",
      "2025-02-04 11:44:10,070:Server:INFO: Recovering weights that yielded the lowest loss.\n",
      "2025-02-04 11:44:10,071:Server:INFO: Notifying clients that training is over.\n",
      "2025-02-04 11:44:11,089:Server:INFO: Checkpointing final weights under ./results/server/model_state_best.json.\n",
      "2025-02-04 11:44:11,095:Server:INFO: server closing\n",
      "2025-02-04 11:44:11,096:Server:INFO: connection closed\n",
      "2025-02-04 11:44:11,097:Server:INFO: connection closed\n",
      "2025-02-04 11:44:11,097:Server:INFO: connection closed\n",
      "2025-02-04 11:44:11,097:Server:INFO: connection closed\n",
      "2025-02-04 11:44:11,098:Server:INFO: connection closed\n",
      "2025-02-04 11:44:11,098:Server:INFO: server closed\n"
     ]
    }
   ],
   "source": [
    "await quickrun(config=\"config.toml\")"
   ]
  },
  {
   "cell_type": "markdown",
   "metadata": {},
   "source": [
    "## Results"
   ]
  },
  {
   "cell_type": "code",
   "execution_count": 4,
   "metadata": {},
   "outputs": [
    {
     "data": {
      "text/html": [
       "<div>\n",
       "<style scoped>\n",
       "    .dataframe tbody tr th:only-of-type {\n",
       "        vertical-align: middle;\n",
       "    }\n",
       "\n",
       "    .dataframe tbody tr th {\n",
       "        vertical-align: top;\n",
       "    }\n",
       "\n",
       "    .dataframe thead th {\n",
       "        text-align: right;\n",
       "    }\n",
       "</style>\n",
       "<table border=\"1\" class=\"dataframe\">\n",
       "  <thead>\n",
       "    <tr style=\"text-align: right;\">\n",
       "      <th></th>\n",
       "      <th>timestamp</th>\n",
       "      <th>accuracy</th>\n",
       "      <th>precision</th>\n",
       "      <th>recall</th>\n",
       "      <th>f-score</th>\n",
       "      <th>loss</th>\n",
       "    </tr>\n",
       "  </thead>\n",
       "  <tbody>\n",
       "    <tr>\n",
       "      <th>0</th>\n",
       "      <td>25-02-04_11-43-33</td>\n",
       "      <td>0.762730</td>\n",
       "      <td>0.681614</td>\n",
       "      <td>0.042733</td>\n",
       "      <td>0.080423</td>\n",
       "      <td>0.549662</td>\n",
       "    </tr>\n",
       "    <tr>\n",
       "      <th>1</th>\n",
       "      <td>25-02-04_11-43-38</td>\n",
       "      <td>0.781911</td>\n",
       "      <td>0.799669</td>\n",
       "      <td>0.135789</td>\n",
       "      <td>0.232156</td>\n",
       "      <td>0.483073</td>\n",
       "    </tr>\n",
       "    <tr>\n",
       "      <th>2</th>\n",
       "      <td>25-02-04_11-43-43</td>\n",
       "      <td>0.801160</td>\n",
       "      <td>0.780488</td>\n",
       "      <td>0.251898</td>\n",
       "      <td>0.380871</td>\n",
       "      <td>0.444370</td>\n",
       "    </tr>\n",
       "    <tr>\n",
       "      <th>3</th>\n",
       "      <td>25-02-04_11-43-47</td>\n",
       "      <td>0.810034</td>\n",
       "      <td>0.752611</td>\n",
       "      <td>0.324150</td>\n",
       "      <td>0.453134</td>\n",
       "      <td>0.421657</td>\n",
       "    </tr>\n",
       "    <tr>\n",
       "      <th>4</th>\n",
       "      <td>25-02-04_11-43-49</td>\n",
       "      <td>0.820000</td>\n",
       "      <td>0.755556</td>\n",
       "      <td>0.382345</td>\n",
       "      <td>0.507747</td>\n",
       "      <td>0.407005</td>\n",
       "    </tr>\n",
       "  </tbody>\n",
       "</table>\n",
       "</div>"
      ],
      "text/plain": [
       "           timestamp  accuracy  precision    recall   f-score      loss\n",
       "0  25-02-04_11-43-33  0.762730   0.681614  0.042733  0.080423  0.549662\n",
       "1  25-02-04_11-43-38  0.781911   0.799669  0.135789  0.232156  0.483073\n",
       "2  25-02-04_11-43-43  0.801160   0.780488  0.251898  0.380871  0.444370\n",
       "3  25-02-04_11-43-47  0.810034   0.752611  0.324150  0.453134  0.421657\n",
       "4  25-02-04_11-43-49  0.820000   0.755556  0.382345  0.507747  0.407005"
      ]
     },
     "execution_count": 4,
     "metadata": {},
     "output_type": "execute_result"
    }
   ],
   "source": [
    "res = pd.read_csv(\"results/server/metrics.csv\")\n",
    "res.head()"
   ]
  },
  {
   "cell_type": "code",
   "execution_count": 5,
   "metadata": {},
   "outputs": [
    {
     "data": {
      "image/png": "[encoded data removed]",
      "text/plain": [
       "<Figure size 640x480 with 1 Axes>"
      ]
     },
     "metadata": {},
     "output_type": "display_data"
    }
   ],
   "source": [
    "res_fig = res.plot()"
   ]
  }
 ],
 "metadata": {
  "kernelspec": {
   "display_name": ".venv",
   "language": "python",
   "name": "python3"
  },
  "language_info": {
   "codemirror_mode": {
    "name": "ipython",
    "version": 3
   },
   "file_extension": ".py",
   "mimetype": "text/x-python",
   "name": "python",
   "nbconvert_exporter": "python",
   "pygments_lexer": "ipython3",
   "version": "3.11.11"
  }
 },
 "nbformat": 4,
 "nbformat_minor": 2
}
