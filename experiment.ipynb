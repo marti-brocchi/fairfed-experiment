{
 "cells": [
  {
   "cell_type": "markdown",
   "metadata": {},
   "source": [
    "# FL experiment with FairFed"
   ]
  },
  {
   "cell_type": "code",
   "execution_count": 1,
   "metadata": {},
   "outputs": [
    {
     "name": "stderr",
     "output_type": "stream",
     "text": [
      "/Users/martina/Desktop/fairfed-experiment/.venv/lib/python3.11/site-packages/declearn/model/tensorflow/utils/_gpu.py:71: UserWarning: Cannot use a GPU device: either CUDA is unavailable or no GPU is visible to tensorflow.\n",
      "  warnings.warn(\n"
     ]
    }
   ],
   "source": [
    "import os\n",
    "import glob\n",
    "import numpy as np\n",
    "import pandas as pd\n",
    "import tomllib as tl\n",
    "\n",
    "from model import network\n",
    "from declearn.quickrun import quickrun\n",
    "\n",
    "from sklearn.model_selection import train_test_split\n",
    "from sklearn.preprocessing import LabelEncoder, StandardScaler\n",
    "from sklearn.utils import shuffle\n",
    "from aif360.sklearn.datasets import fetch_adult"
   ]
  },
  {
   "cell_type": "code",
   "execution_count": 2,
   "metadata": {},
   "outputs": [],
   "source": [
    "with open(\"config.toml\", \"rb\") as f:\n",
    "    config = tl.load(f)\n",
    "\n",
    "data_dir = config[\"data\"][\"data_folder\"]\n",
    "num_clients = len(config[\"data\"][\"client_names\"])"
   ]
  },
  {
   "cell_type": "markdown",
   "metadata": {},
   "source": [
    "## Dataset"
   ]
  },
  {
   "cell_type": "code",
   "execution_count": 3,
   "metadata": {},
   "outputs": [],
   "source": [
    "def get_numerical_dataset():\n",
    "    \"\"\"\n",
    "    Import the Adult Income Dataset\n",
    "    \"\"\"\n",
    "    X, y, sample_weights = fetch_adult(dropna=False)\n",
    "\n",
    "    # # Shuffle the dataset\n",
    "    X, y, sample_weights = shuffle(X, y, sample_weights, random_state=42)\n",
    "\n",
    "    # Transform sex into binary value\n",
    "    # 0 if Female, 1 if Male\n",
    "    X[\"sex\"] = (X[\"sex\"] == \"Male\").astype(int)\n",
    "\n",
    "    # Encode other features\n",
    "    le = LabelEncoder()\n",
    "    for column in X.columns:\n",
    "        if X[column].dtype != np.float64 and X[column].dtype != np.int64:\n",
    "            X[column] = le.fit_transform(X[column])\n",
    "\n",
    "    y = le.fit_transform(y)\n",
    "\n",
    "    return X, y"
   ]
  },
  {
   "cell_type": "code",
   "execution_count": 4,
   "metadata": {},
   "outputs": [],
   "source": [
    "def manage_protected_attributes(X, y, sensitive_attributes):\n",
    "    \"\"\"\n",
    "    Saves and removes the protected attributes from the dataset\n",
    "\n",
    "    Input:\n",
    "    - `X`: features\n",
    "    - `y`: labels\n",
    "    - `sensitive_attributes`: list of sensitive attributes to remove from the dataset\n",
    "\n",
    "    Output:\n",
    "    - `X`: features without the protected attributes\n",
    "    - `y`: labels\n",
    "    - `protected_attribute_values`: the values of the protected attributes\n",
    "    - `privileged`: the set of privileged groups\n",
    "    \"\"\"\n",
    "\n",
    "    protected_attribute_values = X[\"sex\"].values\n",
    "    groups = set(protected_attribute_values)\n",
    "    privileged_groups = {1}\n",
    "\n",
    "    # remove protected attributes from features\n",
    "    for sensitive_attribute in sensitive_attributes:\n",
    "        if sensitive_attribute in X.columns:\n",
    "            X = X.drop(columns=[sensitive_attribute])\n",
    "\n",
    "    return X, y, protected_attribute_values, privileged_groups"
   ]
  },
  {
   "cell_type": "code",
   "execution_count": 5,
   "metadata": {},
   "outputs": [],
   "source": [
    "def split_dataset(X, y, test_size=0.3):\n",
    "    \"\"\"\n",
    "    Split the dataset into training and testing sets\n",
    "\n",
    "    Input:\n",
    "    - `X`: features\n",
    "    - `y`: labels\n",
    "    - `test_size`: the size of the testing set, expressed as a percentage of the dataset (default: 0.2)\n",
    "\n",
    "    Output:\n",
    "    - `X_train`: training features\n",
    "    - `y_train`: training labels\n",
    "    - `X_test`: testing features\n",
    "    - `y_test`: testing labels\n",
    "    \"\"\"\n",
    "\n",
    "    features = X.values\n",
    "    labels = y\n",
    "\n",
    "    # Standardize the features\n",
    "    scaler = StandardScaler()\n",
    "    X_scaled = scaler.fit_transform(features)\n",
    "\n",
    "    # Convert features and labels to correct data types\n",
    "    X_scaled = X_scaled.astype(np.float32)\n",
    "    y = labels.astype(np.int32)\n",
    "\n",
    "    # Split the dataset\n",
    "    X_train, X_test, y_train, y_test = train_test_split(\n",
    "        X_scaled, y, test_size=test_size, shuffle=False\n",
    "    )\n",
    "\n",
    "    return X_train, y_train, X_test, y_test"
   ]
  },
  {
   "cell_type": "markdown",
   "metadata": {},
   "source": [
    "Import dataset and encode features, manage protected attributes, and split train and test sets"
   ]
  },
  {
   "cell_type": "code",
   "execution_count": 6,
   "metadata": {},
   "outputs": [],
   "source": [
    "X, y = get_numerical_dataset()\n",
    "X, y, protected_attribute_values, _ = manage_protected_attributes(X, y, [\"sex\", \"race\"])\n",
    "X_train, y_train, X_test, y_test = split_dataset(X, y)"
   ]
  },
  {
   "cell_type": "code",
   "execution_count": 7,
   "metadata": {},
   "outputs": [],
   "source": [
    "def create_client_data_no_cov_same_size(\n",
    "    features, labels, protected_attribute_values, num_clients: int\n",
    "):\n",
    "    client_data = []\n",
    "    client_size = features.shape[0] // num_clients\n",
    "\n",
    "    for i in range(num_clients):\n",
    "        client_features = features[i * client_size : (i + 1) * client_size]\n",
    "        client_labels = labels[i * client_size : (i + 1) * client_size]\n",
    "        client_protected_values = protected_attribute_values[\n",
    "            i * client_size : (i + 1) * client_size\n",
    "        ]\n",
    "\n",
    "        # Count the number of examples for each class and associate it as metadata\n",
    "        client_metadata = {\n",
    "            f\"{label}\": count\n",
    "            for label, count in enumerate(np.bincount(client_protected_values))\n",
    "        }\n",
    "        client_data.append(\n",
    "            (client_features, client_labels, client_protected_values, client_metadata)\n",
    "        )\n",
    "\n",
    "    return client_data"
   ]
  },
  {
   "cell_type": "code",
   "execution_count": 8,
   "metadata": {},
   "outputs": [],
   "source": [
    "client_train_data = create_client_data_no_cov_same_size(\n",
    "    X_train, y_train, protected_attribute_values, num_clients\n",
    ")\n",
    "\n",
    "client_test_data = create_client_data_no_cov_same_size(\n",
    "    X_test, y_test, protected_attribute_values, num_clients\n",
    ")"
   ]
  },
  {
   "cell_type": "markdown",
   "metadata": {},
   "source": [
    "Save client data to the adult folder, creating a subdirectory for each client"
   ]
  },
  {
   "cell_type": "code",
   "execution_count": 9,
   "metadata": {},
   "outputs": [],
   "source": [
    "for client in range(num_clients):\n",
    "\n",
    "    # Create directory for each client\n",
    "    client_dir = f\"client_{client}\"\n",
    "\n",
    "    if not os.path.exists(data_dir):\n",
    "        os.makedirs(data_dir)\n",
    "    if not os.path.exists(f\"{data_dir}/{client_dir}\"):\n",
    "        os.makedirs(f\"{data_dir}/{client_dir}\")\n",
    "\n",
    "    # Save the data\n",
    "    features, labels, _, _ = client_train_data[client]\n",
    "    np.save(f\"{data_dir}/{client_dir}/train_data.npy\", features)\n",
    "    np.save(f\"{data_dir}/{client_dir}/train_target.npy\", labels)\n",
    "\n",
    "    features, labels, _, _ = client_test_data[client]\n",
    "    np.save(f\"{data_dir}/{client_dir}/valid_data.npy\", features)\n",
    "    np.save(f\"{data_dir}/{client_dir}/valid_target.npy\", labels)"
   ]
  },
  {
   "cell_type": "markdown",
   "metadata": {},
   "source": [
    "## Model"
   ]
  },
  {
   "cell_type": "code",
   "execution_count": 10,
   "metadata": {},
   "outputs": [
    {
     "data": {
      "text/html": [
       "<pre style=\"white-space:pre;overflow-x:auto;line-height:normal;font-family:Menlo,'DejaVu Sans Mono',consolas,'Courier New',monospace\"><span style=\"font-weight: bold\">Model: \"sequential\"</span>\n",
       "</pre>\n"
      ],
      "text/plain": [
       "\u001b[1mModel: \"sequential\"\u001b[0m\n"
      ]
     },
     "metadata": {},
     "output_type": "display_data"
    },
    {
     "data": {
      "text/html": [
       "<pre style=\"white-space:pre;overflow-x:auto;line-height:normal;font-family:Menlo,'DejaVu Sans Mono',consolas,'Courier New',monospace\">┏━━━━━━━━━━━━━━━━━━━━━━━━━━━━━━━━━┳━━━━━━━━━━━━━━━━━━━━━━━━┳━━━━━━━━━━━━━━━┓\n",
       "┃<span style=\"font-weight: bold\"> Layer (type)                    </span>┃<span style=\"font-weight: bold\"> Output Shape           </span>┃<span style=\"font-weight: bold\">       Param # </span>┃\n",
       "┡━━━━━━━━━━━━━━━━━━━━━━━━━━━━━━━━━╇━━━━━━━━━━━━━━━━━━━━━━━━╇━━━━━━━━━━━━━━━┩\n",
       "│ dense (<span style=\"color: #0087ff; text-decoration-color: #0087ff\">Dense</span>)                   │ (<span style=\"color: #00d7ff; text-decoration-color: #00d7ff\">None</span>, <span style=\"color: #00af00; text-decoration-color: #00af00\">32</span>)             │           <span style=\"color: #00af00; text-decoration-color: #00af00\">384</span> │\n",
       "├─────────────────────────────────┼────────────────────────┼───────────────┤\n",
       "│ dense_1 (<span style=\"color: #0087ff; text-decoration-color: #0087ff\">Dense</span>)                 │ (<span style=\"color: #00d7ff; text-decoration-color: #00d7ff\">None</span>, <span style=\"color: #00af00; text-decoration-color: #00af00\">16</span>)             │           <span style=\"color: #00af00; text-decoration-color: #00af00\">528</span> │\n",
       "├─────────────────────────────────┼────────────────────────┼───────────────┤\n",
       "│ dense_2 (<span style=\"color: #0087ff; text-decoration-color: #0087ff\">Dense</span>)                 │ (<span style=\"color: #00d7ff; text-decoration-color: #00d7ff\">None</span>, <span style=\"color: #00af00; text-decoration-color: #00af00\">1</span>)              │            <span style=\"color: #00af00; text-decoration-color: #00af00\">17</span> │\n",
       "└─────────────────────────────────┴────────────────────────┴───────────────┘\n",
       "</pre>\n"
      ],
      "text/plain": [
       "┏━━━━━━━━━━━━━━━━━━━━━━━━━━━━━━━━━┳━━━━━━━━━━━━━━━━━━━━━━━━┳━━━━━━━━━━━━━━━┓\n",
       "┃\u001b[1m \u001b[0m\u001b[1mLayer (type)                   \u001b[0m\u001b[1m \u001b[0m┃\u001b[1m \u001b[0m\u001b[1mOutput Shape          \u001b[0m\u001b[1m \u001b[0m┃\u001b[1m \u001b[0m\u001b[1m      Param #\u001b[0m\u001b[1m \u001b[0m┃\n",
       "┡━━━━━━━━━━━━━━━━━━━━━━━━━━━━━━━━━╇━━━━━━━━━━━━━━━━━━━━━━━━╇━━━━━━━━━━━━━━━┩\n",
       "│ dense (\u001b[38;5;33mDense\u001b[0m)                   │ (\u001b[38;5;45mNone\u001b[0m, \u001b[38;5;34m32\u001b[0m)             │           \u001b[38;5;34m384\u001b[0m │\n",
       "├─────────────────────────────────┼────────────────────────┼───────────────┤\n",
       "│ dense_1 (\u001b[38;5;33mDense\u001b[0m)                 │ (\u001b[38;5;45mNone\u001b[0m, \u001b[38;5;34m16\u001b[0m)             │           \u001b[38;5;34m528\u001b[0m │\n",
       "├─────────────────────────────────┼────────────────────────┼───────────────┤\n",
       "│ dense_2 (\u001b[38;5;33mDense\u001b[0m)                 │ (\u001b[38;5;45mNone\u001b[0m, \u001b[38;5;34m1\u001b[0m)              │            \u001b[38;5;34m17\u001b[0m │\n",
       "└─────────────────────────────────┴────────────────────────┴───────────────┘\n"
      ]
     },
     "metadata": {},
     "output_type": "display_data"
    },
    {
     "data": {
      "text/html": [
       "<pre style=\"white-space:pre;overflow-x:auto;line-height:normal;font-family:Menlo,'DejaVu Sans Mono',consolas,'Courier New',monospace\"><span style=\"font-weight: bold\"> Total params: </span><span style=\"color: #00af00; text-decoration-color: #00af00\">929</span> (3.63 KB)\n",
       "</pre>\n"
      ],
      "text/plain": [
       "\u001b[1m Total params: \u001b[0m\u001b[38;5;34m929\u001b[0m (3.63 KB)\n"
      ]
     },
     "metadata": {},
     "output_type": "display_data"
    },
    {
     "data": {
      "text/html": [
       "<pre style=\"white-space:pre;overflow-x:auto;line-height:normal;font-family:Menlo,'DejaVu Sans Mono',consolas,'Courier New',monospace\"><span style=\"font-weight: bold\"> Trainable params: </span><span style=\"color: #00af00; text-decoration-color: #00af00\">929</span> (3.63 KB)\n",
       "</pre>\n"
      ],
      "text/plain": [
       "\u001b[1m Trainable params: \u001b[0m\u001b[38;5;34m929\u001b[0m (3.63 KB)\n"
      ]
     },
     "metadata": {},
     "output_type": "display_data"
    },
    {
     "data": {
      "text/html": [
       "<pre style=\"white-space:pre;overflow-x:auto;line-height:normal;font-family:Menlo,'DejaVu Sans Mono',consolas,'Courier New',monospace\"><span style=\"font-weight: bold\"> Non-trainable params: </span><span style=\"color: #00af00; text-decoration-color: #00af00\">0</span> (0.00 B)\n",
       "</pre>\n"
      ],
      "text/plain": [
       "\u001b[1m Non-trainable params: \u001b[0m\u001b[38;5;34m0\u001b[0m (0.00 B)\n"
      ]
     },
     "metadata": {},
     "output_type": "display_data"
    }
   ],
   "source": [
    "network.summary()  # network is a `tensorflow.keras.Model` instance"
   ]
  },
  {
   "cell_type": "markdown",
   "metadata": {},
   "source": [
    "## Run experiment"
   ]
  },
  {
   "cell_type": "code",
   "execution_count": 11,
   "metadata": {},
   "outputs": [
    {
     "name": "stderr",
     "output_type": "stream",
     "text": [
      "2025-02-03 11:21:51,773:Server:INFO: Server is now starting...\n",
      "2025-02-03 11:21:51,778:Server:INFO: server listening on 127.0.0.1:8765\n",
      "2025-02-03 11:21:51,778:Server:INFO: Starting clients registration process.\n",
      "2025-02-03 11:21:52,786:Server:INFO: connection open\n",
      "2025-02-03 11:21:52,788:Server:INFO: New connection from ('127.0.0.1', 56733)\n",
      "2025-02-03 11:21:52,789:Server:INFO: connection open\n",
      "2025-02-03 11:21:52,790:Server:INFO: New connection from ('127.0.0.1', 56734)\n",
      "2025-02-03 11:21:52,791:Server:INFO: connection open\n",
      "2025-02-03 11:21:52,792:Server:INFO: New connection from ('127.0.0.1', 56735)\n",
      "2025-02-03 11:21:52,793:Server:INFO: connection open\n",
      "2025-02-03 11:21:52,795:Server:INFO: New connection from ('127.0.0.1', 56736)\n",
      "2025-02-03 11:21:52,796:Server:INFO: connection open\n",
      "2025-02-03 11:21:52,797:Server:INFO: New connection from ('127.0.0.1', 56737)\n",
      "2025-02-03 11:21:52,800:Server:INFO: Registering client 'client_0' for training.\n",
      "2025-02-03 11:21:52,801:Server:INFO: Registering client 'client_1' for training.\n",
      "2025-02-03 11:21:52,802:Server:INFO: Registering client 'client_2' for training.\n",
      "2025-02-03 11:21:52,803:Server:INFO: Registering client 'client_3' for training.\n",
      "2025-02-03 11:21:52,803:Server:INFO: Registering client 'client_4' for training.\n",
      "2025-02-03 11:21:56,787:Server:INFO: Clients' registration is now complete.\n",
      "2025-02-03 11:21:56,790:Server:INFO: Sending initialization requests to clients.\n",
      "2025-02-03 11:21:57,818:Server:INFO: Waiting for clients' responses.\n",
      "2025-02-03 11:21:57,821:Server:INFO: Initialization was successful.\n",
      "2025-02-03 11:21:57,828:Server:INFO: Initiating training round 1\n",
      "2025-02-03 11:21:58,832:Server:INFO: Awaiting clients' training results.\n",
      "2025-02-03 11:21:58,837:Server:INFO: Conducting server-side optimization.\n",
      "2025-02-03 11:21:58,844:Server:INFO: Initiating evaluation round 1\n",
      "2025-02-03 11:21:59,693:client_0:MAJOR: Local scalar evaluation metrics: {'accuracy': 0.7696245733788396, 'loss': 0.5257471124263347}\n",
      "2025-02-03 11:21:59,780:client_1:MAJOR: Local scalar evaluation metrics: {'accuracy': 0.7781569965870307, 'loss': 0.5272088791323196}\n",
      "2025-02-03 11:21:59,865:client_2:MAJOR: Local scalar evaluation metrics: {'accuracy': 0.7563139931740614, 'loss': 0.5376158769220215}\n",
      "2025-02-03 11:21:59,952:client_3:MAJOR: Local scalar evaluation metrics: {'accuracy': 0.7542662116040956, 'loss': 0.5336685050469616}\n",
      "2025-02-03 11:22:00,037:client_4:MAJOR: Local scalar evaluation metrics: {'accuracy': 0.7457337883959044, 'loss': 0.5450045297577113}\n",
      "2025-02-03 11:22:00,040:Server:INFO: Awaiting clients' evaluation results.\n",
      "2025-02-03 11:22:01,042:Server:INFO: Aggregating evaluation results.\n",
      "2025-02-03 11:22:01,045:Server:INFO: Averaged loss is: 0.5338489806570698\n",
      "2025-02-03 11:22:01,046:Server:INFO: Other averaged scalar metrics are: {'accuracy': 0.7608191126279863, 'loss': 0.5338489806570698}\n",
      "2025-02-03 11:22:01,056:Server:INFO: Initiating training round 2\n",
      "2025-02-03 11:22:02,472:Server:INFO: Awaiting clients' training results.\n",
      "2025-02-03 11:22:03,478:Server:INFO: Conducting server-side optimization.\n",
      "2025-02-03 11:22:03,483:Server:INFO: Initiating evaluation round 2\n",
      "2025-02-03 11:22:04,597:client_0:MAJOR: Local scalar evaluation metrics: {'accuracy': 0.7696245733788396, 'loss': 0.47146152457279555}\n",
      "2025-02-03 11:22:04,682:client_1:MAJOR: Local scalar evaluation metrics: {'accuracy': 0.7781569965870307, 'loss': 0.4765220307652861}\n",
      "2025-02-03 11:22:04,767:client_2:MAJOR: Local scalar evaluation metrics: {'accuracy': 0.7563139931740614, 'loss': 0.4857636044863548}\n",
      "2025-02-03 11:22:04,853:client_3:MAJOR: Local scalar evaluation metrics: {'accuracy': 0.7542662116040956, 'loss': 0.4822237244238219}\n",
      "2025-02-03 11:22:04,936:client_4:MAJOR: Local scalar evaluation metrics: {'accuracy': 0.7457337883959044, 'loss': 0.4986353164850241}\n",
      "2025-02-03 11:22:04,938:Server:INFO: Awaiting clients' evaluation results.\n",
      "2025-02-03 11:22:05,941:Server:INFO: Aggregating evaluation results.\n",
      "2025-02-03 11:22:05,943:Server:INFO: Averaged loss is: 0.4829212401466565\n",
      "2025-02-03 11:22:05,945:Server:INFO: Other averaged scalar metrics are: {'accuracy': 0.7608191126279863, 'loss': 0.4829212401466565}\n",
      "2025-02-03 11:22:05,952:Server:INFO: Initiating training round 3\n",
      "2025-02-03 11:22:07,384:Server:INFO: Awaiting clients' training results.\n",
      "2025-02-03 11:22:08,390:Server:INFO: Conducting server-side optimization.\n",
      "2025-02-03 11:22:08,395:Server:INFO: Initiating evaluation round 3\n",
      "2025-02-03 11:22:09,498:client_0:MAJOR: Local scalar evaluation metrics: {'accuracy': 0.7696245733788396, 'loss': 0.4428852012336458}\n",
      "2025-02-03 11:22:09,585:client_1:MAJOR: Local scalar evaluation metrics: {'accuracy': 0.7781569965870307, 'loss': 0.45148420964491653}\n",
      "2025-02-03 11:22:09,669:client_2:MAJOR: Local scalar evaluation metrics: {'accuracy': 0.7563139931740614, 'loss': 0.457996616876166}\n",
      "2025-02-03 11:22:09,753:client_3:MAJOR: Local scalar evaluation metrics: {'accuracy': 0.7542662116040956, 'loss': 0.45451604504227233}\n",
      "2025-02-03 11:22:09,838:client_4:MAJOR: Local scalar evaluation metrics: {'accuracy': 0.7457337883959044, 'loss': 0.4732506882412035}\n",
      "2025-02-03 11:22:09,840:Server:INFO: Awaiting clients' evaluation results.\n",
      "2025-02-03 11:22:10,843:Server:INFO: Aggregating evaluation results.\n",
      "2025-02-03 11:22:10,845:Server:INFO: Averaged loss is: 0.4560265522076408\n",
      "2025-02-03 11:22:10,846:Server:INFO: Other averaged scalar metrics are: {'accuracy': 0.7608191126279863, 'loss': 0.4560265522076408}\n",
      "2025-02-03 11:22:10,856:Server:INFO: Initiating training round 4\n",
      "2025-02-03 11:22:12,266:Server:INFO: Awaiting clients' training results.\n",
      "2025-02-03 11:22:13,271:Server:INFO: Conducting server-side optimization.\n",
      "2025-02-03 11:22:13,277:Server:INFO: Initiating evaluation round 4\n",
      "2025-02-03 11:22:14,386:client_0:MAJOR: Local scalar evaluation metrics: {'accuracy': 0.7696245733788396, 'loss': 0.42399828807282364}\n",
      "2025-02-03 11:22:14,470:client_1:MAJOR: Local scalar evaluation metrics: {'accuracy': 0.7781569965870307, 'loss': 0.4353141234596435}\n",
      "2025-02-03 11:22:14,555:client_2:MAJOR: Local scalar evaluation metrics: {'accuracy': 0.7563139931740614, 'loss': 0.43962479219501743}\n",
      "2025-02-03 11:22:14,643:client_3:MAJOR: Local scalar evaluation metrics: {'accuracy': 0.7542662116040956, 'loss': 0.4361250074141668}\n",
      "2025-02-03 11:22:14,727:client_4:MAJOR: Local scalar evaluation metrics: {'accuracy': 0.7457337883959044, 'loss': 0.4561210619304774}\n",
      "2025-02-03 11:22:14,730:Server:INFO: Awaiting clients' evaluation results.\n",
      "2025-02-03 11:22:15,733:Server:INFO: Aggregating evaluation results.\n",
      "2025-02-03 11:22:15,735:Server:INFO: Averaged loss is: 0.43823665461442574\n",
      "2025-02-03 11:22:15,737:Server:INFO: Other averaged scalar metrics are: {'accuracy': 0.7608191126279863, 'loss': 0.43823665461442574}\n",
      "2025-02-03 11:22:15,750:Server:INFO: Initiating training round 5\n",
      "2025-02-03 11:22:17,161:Server:INFO: Awaiting clients' training results.\n",
      "2025-02-03 11:22:18,166:Server:INFO: Conducting server-side optimization.\n",
      "2025-02-03 11:22:18,171:Server:INFO: Initiating evaluation round 5\n",
      "2025-02-03 11:22:19,268:client_0:MAJOR: Local scalar evaluation metrics: {'accuracy': 0.7696245733788396, 'loss': 0.4105405353035129}\n",
      "2025-02-03 11:22:19,352:client_1:MAJOR: Local scalar evaluation metrics: {'accuracy': 0.7781569965870307, 'loss': 0.423769470408508}\n",
      "2025-02-03 11:22:19,435:client_2:MAJOR: Local scalar evaluation metrics: {'accuracy': 0.7563139931740614, 'loss': 0.4264881190993273}\n",
      "2025-02-03 11:22:19,521:client_3:MAJOR: Local scalar evaluation metrics: {'accuracy': 0.7542662116040956, 'loss': 0.4231067930268753}\n",
      "2025-02-03 11:22:19,606:client_4:MAJOR: Local scalar evaluation metrics: {'accuracy': 0.7457337883959044, 'loss': 0.44382261943084794}\n",
      "2025-02-03 11:22:19,608:Server:INFO: Awaiting clients' evaluation results.\n",
      "2025-02-03 11:22:20,610:Server:INFO: Aggregating evaluation results.\n",
      "2025-02-03 11:22:20,611:Server:INFO: Averaged loss is: 0.4255455074538143\n",
      "2025-02-03 11:22:20,612:Server:INFO: Other averaged scalar metrics are: {'accuracy': 0.7608191126279863, 'loss': 0.4255455074538143}\n",
      "2025-02-03 11:22:20,619:Server:INFO: Initiating training round 6\n",
      "2025-02-03 11:22:22,066:Server:INFO: Awaiting clients' training results.\n",
      "2025-02-03 11:22:23,071:Server:INFO: Conducting server-side optimization.\n",
      "2025-02-03 11:22:23,077:Server:INFO: Initiating evaluation round 6\n",
      "2025-02-03 11:22:24,188:client_0:MAJOR: Local scalar evaluation metrics: {'accuracy': 0.7696245733788396, 'loss': 0.40036339949015465}\n",
      "2025-02-03 11:22:24,274:client_1:MAJOR: Local scalar evaluation metrics: {'accuracy': 0.7781569965870307, 'loss': 0.41494705432917883}\n",
      "2025-02-03 11:22:24,359:client_2:MAJOR: Local scalar evaluation metrics: {'accuracy': 0.7563139931740614, 'loss': 0.4165967703679316}\n",
      "2025-02-03 11:22:24,444:client_3:MAJOR: Local scalar evaluation metrics: {'accuracy': 0.7542662116040956, 'loss': 0.4133843966514991}\n",
      "2025-02-03 11:22:24,530:client_4:MAJOR: Local scalar evaluation metrics: {'accuracy': 0.7457337883959044, 'loss': 0.4344764014966659}\n",
      "2025-02-03 11:22:24,532:Server:INFO: Awaiting clients' evaluation results.\n",
      "2025-02-03 11:22:25,535:Server:INFO: Aggregating evaluation results.\n",
      "2025-02-03 11:22:25,538:Server:INFO: Averaged loss is: 0.415953604467086\n",
      "2025-02-03 11:22:25,538:Server:INFO: Other averaged scalar metrics are: {'accuracy': 0.7608191126279863, 'loss': 0.415953604467086}\n",
      "2025-02-03 11:22:25,547:Server:INFO: Initiating training round 7\n",
      "2025-02-03 11:22:26,959:Server:INFO: Awaiting clients' training results.\n",
      "2025-02-03 11:22:27,964:Server:INFO: Conducting server-side optimization.\n",
      "2025-02-03 11:22:27,970:Server:INFO: Initiating evaluation round 7\n",
      "2025-02-03 11:22:29,075:client_0:MAJOR: Local scalar evaluation metrics: {'accuracy': 0.7696245733788396, 'loss': 0.3923131101163988}\n",
      "2025-02-03 11:22:29,161:client_1:MAJOR: Local scalar evaluation metrics: {'accuracy': 0.7781569965870307, 'loss': 0.4077941220774992}\n",
      "2025-02-03 11:22:29,245:client_2:MAJOR: Local scalar evaluation metrics: {'accuracy': 0.7563139931740614, 'loss': 0.4087324310488262}\n",
      "2025-02-03 11:22:29,329:client_3:MAJOR: Local scalar evaluation metrics: {'accuracy': 0.7542662116040956, 'loss': 0.40564567477223}\n",
      "2025-02-03 11:22:29,414:client_4:MAJOR: Local scalar evaluation metrics: {'accuracy': 0.7457337883959044, 'loss': 0.4268831227826584}\n",
      "2025-02-03 11:22:29,416:Server:INFO: Awaiting clients' evaluation results.\n",
      "2025-02-03 11:22:30,419:Server:INFO: Aggregating evaluation results.\n",
      "2025-02-03 11:22:30,421:Server:INFO: Averaged loss is: 0.4082736921595225\n",
      "2025-02-03 11:22:30,422:Server:INFO: Other averaged scalar metrics are: {'accuracy': 0.7608191126279863, 'loss': 0.4082736921595225}\n",
      "2025-02-03 11:22:30,432:Server:INFO: Initiating training round 8\n",
      "2025-02-03 11:22:31,844:Server:INFO: Awaiting clients' training results.\n",
      "2025-02-03 11:22:32,849:Server:INFO: Conducting server-side optimization.\n",
      "2025-02-03 11:22:32,855:Server:INFO: Initiating evaluation round 8\n",
      "2025-02-03 11:22:33,965:client_0:MAJOR: Local scalar evaluation metrics: {'accuracy': 0.7696245733788396, 'loss': 0.38568085733127266}\n",
      "2025-02-03 11:22:34,049:client_1:MAJOR: Local scalar evaluation metrics: {'accuracy': 0.7781569965870307, 'loss': 0.40166852246372364}\n",
      "2025-02-03 11:22:34,137:client_2:MAJOR: Local scalar evaluation metrics: {'accuracy': 0.7563139931740614, 'loss': 0.4021781382300341}\n",
      "2025-02-03 11:22:34,222:client_3:MAJOR: Local scalar evaluation metrics: {'accuracy': 0.7542662116040956, 'loss': 0.3992517843079648}\n",
      "2025-02-03 11:22:34,309:client_4:MAJOR: Local scalar evaluation metrics: {'accuracy': 0.7457337883959044, 'loss': 0.4204004520849156}\n",
      "2025-02-03 11:22:34,311:Server:INFO: Awaiting clients' evaluation results.\n",
      "2025-02-03 11:22:35,314:Server:INFO: Aggregating evaluation results.\n",
      "2025-02-03 11:22:35,316:Server:INFO: Averaged loss is: 0.4018359508835822\n",
      "2025-02-03 11:22:35,317:Server:INFO: Other averaged scalar metrics are: {'accuracy': 0.7608191126279863, 'loss': 0.4018359508835822}\n",
      "2025-02-03 11:22:35,326:Server:INFO: Initiating training round 9\n",
      "2025-02-03 11:22:36,733:Server:INFO: Awaiting clients' training results.\n",
      "2025-02-03 11:22:37,735:Server:INFO: Conducting server-side optimization.\n",
      "2025-02-03 11:22:37,738:Server:INFO: Initiating evaluation round 9\n",
      "2025-02-03 11:22:38,850:client_0:MAJOR: Local scalar evaluation metrics: {'accuracy': 0.7696245733788396, 'loss': 0.37995933314639146}\n",
      "2025-02-03 11:22:38,935:client_1:MAJOR: Local scalar evaluation metrics: {'accuracy': 0.7781569965870307, 'loss': 0.3962212534081}\n",
      "2025-02-03 11:22:39,052:client_2:MAJOR: Local scalar evaluation metrics: {'accuracy': 0.7563139931740614, 'loss': 0.3963876138775015}\n",
      "2025-02-03 11:22:39,142:client_3:MAJOR: Local scalar evaluation metrics: {'accuracy': 0.7542662116040956, 'loss': 0.3938021325312377}\n",
      "2025-02-03 11:22:39,234:client_4:MAJOR: Local scalar evaluation metrics: {'accuracy': 0.7457337883959044, 'loss': 0.4146101825473252}\n",
      "2025-02-03 11:22:39,236:Server:INFO: Awaiting clients' evaluation results.\n",
      "2025-02-03 11:22:40,239:Server:INFO: Aggregating evaluation results.\n",
      "2025-02-03 11:22:40,239:Server:INFO: Averaged loss is: 0.3961961031021112\n",
      "2025-02-03 11:22:40,240:Server:INFO: Other averaged scalar metrics are: {'accuracy': 0.7608191126279863, 'loss': 0.3961961031021112}\n",
      "2025-02-03 11:22:40,244:Server:INFO: Initiating training round 10\n",
      "2025-02-03 11:22:41,702:Server:INFO: Awaiting clients' training results.\n",
      "2025-02-03 11:22:42,706:Server:INFO: Conducting server-side optimization.\n",
      "2025-02-03 11:22:42,711:Server:INFO: Initiating evaluation round 10\n",
      "2025-02-03 11:22:43,818:client_0:MAJOR: Local scalar evaluation metrics: {'accuracy': 0.7696245733788396, 'loss': 0.3749683551719164}\n",
      "2025-02-03 11:22:43,905:client_1:MAJOR: Local scalar evaluation metrics: {'accuracy': 0.7781569965870307, 'loss': 0.3913501915264455}\n",
      "2025-02-03 11:22:43,990:client_2:MAJOR: Local scalar evaluation metrics: {'accuracy': 0.7563139931740614, 'loss': 0.3912232648390552}\n",
      "2025-02-03 11:22:44,077:client_3:MAJOR: Local scalar evaluation metrics: {'accuracy': 0.7542662116040956, 'loss': 0.38902777440515396}\n",
      "2025-02-03 11:22:44,163:client_4:MAJOR: Local scalar evaluation metrics: {'accuracy': 0.7457337883959044, 'loss': 0.40933216643414805}\n",
      "2025-02-03 11:22:44,165:Server:INFO: Awaiting clients' evaluation results.\n",
      "2025-02-03 11:22:45,168:Server:INFO: Aggregating evaluation results.\n",
      "2025-02-03 11:22:45,170:Server:INFO: Averaged loss is: 0.39118035047534383\n",
      "2025-02-03 11:22:45,171:Server:INFO: Other averaged scalar metrics are: {'accuracy': 0.7608191126279863, 'loss': 0.39118035047534383}\n",
      "2025-02-03 11:22:45,180:Server:INFO: Maximum number of training rounds reached.\n",
      "2025-02-03 11:22:45,181:Server:INFO: Stopping training.\n",
      "2025-02-03 11:22:45,181:Server:INFO: Recovering weights that yielded the lowest loss.\n",
      "2025-02-03 11:22:45,182:Server:INFO: Notifying clients that training is over.\n",
      "2025-02-03 11:22:46,192:Server:INFO: Checkpointing final weights under ./results/server/model_state_best.json.\n",
      "2025-02-03 11:22:46,196:Server:INFO: server closing\n",
      "2025-02-03 11:22:46,197:Server:INFO: connection closed\n",
      "2025-02-03 11:22:46,198:Server:INFO: connection closed\n",
      "2025-02-03 11:22:46,198:Server:INFO: connection closed\n",
      "2025-02-03 11:22:46,199:Server:INFO: connection closed\n",
      "2025-02-03 11:22:46,199:Server:INFO: connection closed\n",
      "2025-02-03 11:22:46,201:Server:INFO: server closed\n"
     ]
    }
   ],
   "source": [
    "await quickrun(config=\"config.toml\")"
   ]
  },
  {
   "cell_type": "markdown",
   "metadata": {},
   "source": [
    "## Results"
   ]
  },
  {
   "cell_type": "code",
   "execution_count": 12,
   "metadata": {},
   "outputs": [
    {
     "data": {
      "text/html": [
       "<div>\n",
       "<style scoped>\n",
       "    .dataframe tbody tr th:only-of-type {\n",
       "        vertical-align: middle;\n",
       "    }\n",
       "\n",
       "    .dataframe tbody tr th {\n",
       "        vertical-align: top;\n",
       "    }\n",
       "\n",
       "    .dataframe thead th {\n",
       "        text-align: right;\n",
       "    }\n",
       "</style>\n",
       "<table border=\"1\" class=\"dataframe\">\n",
       "  <thead>\n",
       "    <tr style=\"text-align: right;\">\n",
       "      <th></th>\n",
       "      <th>timestamp</th>\n",
       "      <th>accuracy</th>\n",
       "      <th>loss</th>\n",
       "    </tr>\n",
       "  </thead>\n",
       "  <tbody>\n",
       "    <tr>\n",
       "      <th>0</th>\n",
       "      <td>25-02-03_11-22-01</td>\n",
       "      <td>0.760819</td>\n",
       "      <td>0.533849</td>\n",
       "    </tr>\n",
       "    <tr>\n",
       "      <th>1</th>\n",
       "      <td>25-02-03_11-22-05</td>\n",
       "      <td>0.760819</td>\n",
       "      <td>0.482921</td>\n",
       "    </tr>\n",
       "    <tr>\n",
       "      <th>2</th>\n",
       "      <td>25-02-03_11-22-10</td>\n",
       "      <td>0.760819</td>\n",
       "      <td>0.456027</td>\n",
       "    </tr>\n",
       "    <tr>\n",
       "      <th>3</th>\n",
       "      <td>25-02-03_11-22-15</td>\n",
       "      <td>0.760819</td>\n",
       "      <td>0.438237</td>\n",
       "    </tr>\n",
       "    <tr>\n",
       "      <th>4</th>\n",
       "      <td>25-02-03_11-22-20</td>\n",
       "      <td>0.760819</td>\n",
       "      <td>0.425546</td>\n",
       "    </tr>\n",
       "  </tbody>\n",
       "</table>\n",
       "</div>"
      ],
      "text/plain": [
       "           timestamp  accuracy      loss\n",
       "0  25-02-03_11-22-01  0.760819  0.533849\n",
       "1  25-02-03_11-22-05  0.760819  0.482921\n",
       "2  25-02-03_11-22-10  0.760819  0.456027\n",
       "3  25-02-03_11-22-15  0.760819  0.438237\n",
       "4  25-02-03_11-22-20  0.760819  0.425546"
      ]
     },
     "execution_count": 12,
     "metadata": {},
     "output_type": "execute_result"
    }
   ],
   "source": [
    "res = pd.read_csv(\"results/server/metrics.csv\")\n",
    "res.head()"
   ]
  },
  {
   "cell_type": "code",
   "execution_count": 13,
   "metadata": {},
   "outputs": [
    {
     "data": {
      "image/png": "[encoded data removed]",
      "text/plain": [
       "<Figure size 640x480 with 1 Axes>"
      ]
     },
     "metadata": {},
     "output_type": "display_data"
    }
   ],
   "source": [
    "res_fig = res.plot()"
   ]
  }
 ],
 "metadata": {
  "kernelspec": {
   "display_name": ".venv",
   "language": "python",
   "name": "python3"
  },
  "language_info": {
   "codemirror_mode": {
    "name": "ipython",
    "version": 3
   },
   "file_extension": ".py",
   "mimetype": "text/x-python",
   "name": "python",
   "nbconvert_exporter": "python",
   "pygments_lexer": "ipython3",
   "version": "3.11.11"
  }
 },
 "nbformat": 4,
 "nbformat_minor": 2
}
