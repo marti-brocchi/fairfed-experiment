{
 "cells": [
  {
   "cell_type": "markdown",
   "metadata": {},
   "source": [
    "# FL experiment with FairFed"
   ]
  },
  {
   "cell_type": "code",
   "execution_count": 1,
   "metadata": {},
   "outputs": [
    {
     "name": "stderr",
     "output_type": "stream",
     "text": [
      "/Users/martina/Desktop/FairFed/.venv/lib/python3.11/site-packages/declearn/model/tensorflow/utils/_gpu.py:71: UserWarning: Cannot use a GPU device: either CUDA is unavailable or no GPU is visible to tensorflow.\n",
      "  warnings.warn(\n"
     ]
    }
   ],
   "source": [
    "import os\n",
    "import glob\n",
    "import numpy as np\n",
    "import pandas as pd\n",
    "import tomllib as tl\n",
    "\n",
    "from model import network\n",
    "from declearn.quickrun import quickrun\n",
    "\n",
    "from sklearn.model_selection import train_test_split\n",
    "from sklearn.preprocessing import LabelEncoder, StandardScaler\n",
    "from sklearn.utils import shuffle\n",
    "from aif360.sklearn.datasets import fetch_adult"
   ]
  },
  {
   "cell_type": "code",
   "execution_count": 2,
   "metadata": {},
   "outputs": [],
   "source": [
    "with open(\"config.toml\", \"rb\") as f:\n",
    "    config = tl.load(f)\n",
    "\n",
    "data_dir = config[\"data\"][\"data_folder\"]\n",
    "num_clients = len(config[\"data\"][\"client_names\"])"
   ]
  },
  {
   "cell_type": "markdown",
   "metadata": {},
   "source": [
    "## Dataset"
   ]
  },
  {
   "cell_type": "code",
   "execution_count": 3,
   "metadata": {},
   "outputs": [],
   "source": [
    "def get_numerical_dataset():\n",
    "    \"\"\"\n",
    "    Import the Adult Income Dataset\n",
    "    \"\"\"\n",
    "    X, y, sample_weights = fetch_adult(dropna=False)\n",
    "\n",
    "    # # Shuffle the dataset\n",
    "    X, y, sample_weights = shuffle(X, y, sample_weights, random_state=42)\n",
    "\n",
    "    # Transform sex into binary value\n",
    "    # 0 if Female, 1 if Male\n",
    "    X[\"sex\"] = (X[\"sex\"] == \"Male\").astype(int)\n",
    "\n",
    "    # Encode other features\n",
    "    le = LabelEncoder()\n",
    "    for column in X.columns:\n",
    "        if X[column].dtype != np.float64 and X[column].dtype != np.int64:\n",
    "            X[column] = le.fit_transform(X[column])\n",
    "\n",
    "    y = le.fit_transform(y)\n",
    "\n",
    "    return X, y"
   ]
  },
  {
   "cell_type": "code",
   "execution_count": 4,
   "metadata": {},
   "outputs": [],
   "source": [
    "def manage_protected_attributes(X, y, sensitive_attributes):\n",
    "    \"\"\"\n",
    "    Saves and removes the protected attributes from the dataset\n",
    "\n",
    "    Input:\n",
    "    - `X`: features\n",
    "    - `y`: labels\n",
    "    - `sensitive_attributes`: list of sensitive attributes to remove from the dataset\n",
    "\n",
    "    Output:\n",
    "    - `X`: features without the protected attributes\n",
    "    - `y`: labels\n",
    "    - `protected_attribute_values`: the values of the protected attributes\n",
    "    - `privileged`: the set of privileged groups\n",
    "    \"\"\"\n",
    "\n",
    "    protected_attribute_values = X[\"sex\"].values\n",
    "    groups = set(protected_attribute_values)\n",
    "    privileged_groups = {1}\n",
    "\n",
    "    # remove protected attributes from features\n",
    "    for sensitive_attribute in sensitive_attributes:\n",
    "        if sensitive_attribute in X.columns:\n",
    "            X = X.drop(columns=[sensitive_attribute])\n",
    "\n",
    "    return X, y, protected_attribute_values, privileged_groups"
   ]
  },
  {
   "cell_type": "code",
   "execution_count": 5,
   "metadata": {},
   "outputs": [],
   "source": [
    "def split_dataset(X, y, test_size=0.3):\n",
    "    \"\"\"\n",
    "    Split the dataset into training and testing sets\n",
    "\n",
    "    Input:\n",
    "    - `X`: features\n",
    "    - `y`: labels\n",
    "    - `test_size`: the size of the testing set, expressed as a percentage of the dataset (default: 0.2)\n",
    "\n",
    "    Output:\n",
    "    - `X_train`: training features\n",
    "    - `y_train`: training labels\n",
    "    - `X_test`: testing features\n",
    "    - `y_test`: testing labels\n",
    "    \"\"\"\n",
    "\n",
    "    features = X.values\n",
    "    labels = y\n",
    "\n",
    "    # Standardize the features\n",
    "    scaler = StandardScaler()\n",
    "    X_scaled = scaler.fit_transform(features)\n",
    "\n",
    "    # Convert features and labels to correct data types\n",
    "    X_scaled = X_scaled.astype(np.float32)\n",
    "    y = labels.astype(np.int32)\n",
    "\n",
    "    # Split the dataset\n",
    "    X_train, X_test, y_train, y_test = train_test_split(\n",
    "        X_scaled, y, test_size=test_size, shuffle=False\n",
    "    )\n",
    "\n",
    "    return X_train, y_train, X_test, y_test"
   ]
  },
  {
   "cell_type": "markdown",
   "metadata": {},
   "source": [
    "Import dataset and encode features, manage protected attributes, and split train and test sets"
   ]
  },
  {
   "cell_type": "code",
   "execution_count": 6,
   "metadata": {},
   "outputs": [],
   "source": [
    "X, y = get_numerical_dataset()\n",
    "X, y, protected_attribute_values, _ = manage_protected_attributes(X, y, [\"sex\", \"race\"])\n",
    "X_train, y_train, X_test, y_test = split_dataset(X, y)"
   ]
  },
  {
   "cell_type": "code",
   "execution_count": 7,
   "metadata": {},
   "outputs": [],
   "source": [
    "def create_client_data_no_cov_same_size(\n",
    "    features, labels, protected_attribute_values, num_clients: int\n",
    "):\n",
    "    client_data = []\n",
    "    client_size = features.shape[0] // num_clients\n",
    "\n",
    "    for i in range(num_clients):\n",
    "        client_features = features[i * client_size : (i + 1) * client_size]\n",
    "        client_labels = labels[i * client_size : (i + 1) * client_size]\n",
    "        client_protected_values = protected_attribute_values[\n",
    "            i * client_size : (i + 1) * client_size\n",
    "        ]\n",
    "\n",
    "        # Count the number of examples for each class and associate it as metadata\n",
    "        client_metadata = {\n",
    "            f\"{label}\": count\n",
    "            for label, count in enumerate(np.bincount(client_protected_values))\n",
    "        }\n",
    "        client_data.append(\n",
    "            (client_features, client_labels, client_protected_values, client_metadata)\n",
    "        )\n",
    "\n",
    "    return client_data"
   ]
  },
  {
   "cell_type": "code",
   "execution_count": 8,
   "metadata": {},
   "outputs": [],
   "source": [
    "client_train_data = create_client_data_no_cov_same_size(\n",
    "    X_train, y_train, protected_attribute_values, num_clients\n",
    ")\n",
    "\n",
    "client_test_data = create_client_data_no_cov_same_size(\n",
    "    X_test, y_test, protected_attribute_values, num_clients\n",
    ")"
   ]
  },
  {
   "cell_type": "markdown",
   "metadata": {},
   "source": [
    "Save client data to the adult folder, creating a subdirectory for each client"
   ]
  },
  {
   "cell_type": "code",
   "execution_count": 9,
   "metadata": {},
   "outputs": [],
   "source": [
    "for client in range(num_clients):\n",
    "    # Create directory for each client\n",
    "    client_dir = f\"client_{client}\"\n",
    "\n",
    "    if not os.path.exists(f\"{data_dir}/{client_dir}\"):\n",
    "        os.makedirs(f\"{data_dir}/{client_dir}\")\n",
    "\n",
    "    # Save the data\n",
    "    features, labels, _, _ = client_train_data[client]\n",
    "    np.save(f\"{data_dir}/{client_dir}/train_data.npy\", features)\n",
    "    np.save(f\"{data_dir}/{client_dir}/train_target.npy\", labels)\n",
    "\n",
    "    features, labels, _, _ = client_test_data[client]\n",
    "    np.save(f\"{data_dir}/{client_dir}/valid_data.npy\", features)\n",
    "    np.save(f\"{data_dir}/{client_dir}/valid_target.npy\", labels)"
   ]
  },
  {
   "cell_type": "markdown",
   "metadata": {},
   "source": [
    "## Model"
   ]
  },
  {
   "cell_type": "code",
   "execution_count": 10,
   "metadata": {},
   "outputs": [
    {
     "data": {
      "text/html": [
       "<pre style=\"white-space:pre;overflow-x:auto;line-height:normal;font-family:Menlo,'DejaVu Sans Mono',consolas,'Courier New',monospace\"><span style=\"font-weight: bold\">Model: \"sequential\"</span>\n",
       "</pre>\n"
      ],
      "text/plain": [
       "\u001b[1mModel: \"sequential\"\u001b[0m\n"
      ]
     },
     "metadata": {},
     "output_type": "display_data"
    },
    {
     "data": {
      "text/html": [
       "<pre style=\"white-space:pre;overflow-x:auto;line-height:normal;font-family:Menlo,'DejaVu Sans Mono',consolas,'Courier New',monospace\">┏━━━━━━━━━━━━━━━━━━━━━━━━━━━━━━━━━┳━━━━━━━━━━━━━━━━━━━━━━━━┳━━━━━━━━━━━━━━━┓\n",
       "┃<span style=\"font-weight: bold\"> Layer (type)                    </span>┃<span style=\"font-weight: bold\"> Output Shape           </span>┃<span style=\"font-weight: bold\">       Param # </span>┃\n",
       "┡━━━━━━━━━━━━━━━━━━━━━━━━━━━━━━━━━╇━━━━━━━━━━━━━━━━━━━━━━━━╇━━━━━━━━━━━━━━━┩\n",
       "│ dense (<span style=\"color: #0087ff; text-decoration-color: #0087ff\">Dense</span>)                   │ (<span style=\"color: #00d7ff; text-decoration-color: #00d7ff\">None</span>, <span style=\"color: #00af00; text-decoration-color: #00af00\">32</span>)             │           <span style=\"color: #00af00; text-decoration-color: #00af00\">384</span> │\n",
       "├─────────────────────────────────┼────────────────────────┼───────────────┤\n",
       "│ dense_1 (<span style=\"color: #0087ff; text-decoration-color: #0087ff\">Dense</span>)                 │ (<span style=\"color: #00d7ff; text-decoration-color: #00d7ff\">None</span>, <span style=\"color: #00af00; text-decoration-color: #00af00\">16</span>)             │           <span style=\"color: #00af00; text-decoration-color: #00af00\">528</span> │\n",
       "├─────────────────────────────────┼────────────────────────┼───────────────┤\n",
       "│ dense_2 (<span style=\"color: #0087ff; text-decoration-color: #0087ff\">Dense</span>)                 │ (<span style=\"color: #00d7ff; text-decoration-color: #00d7ff\">None</span>, <span style=\"color: #00af00; text-decoration-color: #00af00\">1</span>)              │            <span style=\"color: #00af00; text-decoration-color: #00af00\">17</span> │\n",
       "└─────────────────────────────────┴────────────────────────┴───────────────┘\n",
       "</pre>\n"
      ],
      "text/plain": [
       "┏━━━━━━━━━━━━━━━━━━━━━━━━━━━━━━━━━┳━━━━━━━━━━━━━━━━━━━━━━━━┳━━━━━━━━━━━━━━━┓\n",
       "┃\u001b[1m \u001b[0m\u001b[1mLayer (type)                   \u001b[0m\u001b[1m \u001b[0m┃\u001b[1m \u001b[0m\u001b[1mOutput Shape          \u001b[0m\u001b[1m \u001b[0m┃\u001b[1m \u001b[0m\u001b[1m      Param #\u001b[0m\u001b[1m \u001b[0m┃\n",
       "┡━━━━━━━━━━━━━━━━━━━━━━━━━━━━━━━━━╇━━━━━━━━━━━━━━━━━━━━━━━━╇━━━━━━━━━━━━━━━┩\n",
       "│ dense (\u001b[38;5;33mDense\u001b[0m)                   │ (\u001b[38;5;45mNone\u001b[0m, \u001b[38;5;34m32\u001b[0m)             │           \u001b[38;5;34m384\u001b[0m │\n",
       "├─────────────────────────────────┼────────────────────────┼───────────────┤\n",
       "│ dense_1 (\u001b[38;5;33mDense\u001b[0m)                 │ (\u001b[38;5;45mNone\u001b[0m, \u001b[38;5;34m16\u001b[0m)             │           \u001b[38;5;34m528\u001b[0m │\n",
       "├─────────────────────────────────┼────────────────────────┼───────────────┤\n",
       "│ dense_2 (\u001b[38;5;33mDense\u001b[0m)                 │ (\u001b[38;5;45mNone\u001b[0m, \u001b[38;5;34m1\u001b[0m)              │            \u001b[38;5;34m17\u001b[0m │\n",
       "└─────────────────────────────────┴────────────────────────┴───────────────┘\n"
      ]
     },
     "metadata": {},
     "output_type": "display_data"
    },
    {
     "data": {
      "text/html": [
       "<pre style=\"white-space:pre;overflow-x:auto;line-height:normal;font-family:Menlo,'DejaVu Sans Mono',consolas,'Courier New',monospace\"><span style=\"font-weight: bold\"> Total params: </span><span style=\"color: #00af00; text-decoration-color: #00af00\">929</span> (3.63 KB)\n",
       "</pre>\n"
      ],
      "text/plain": [
       "\u001b[1m Total params: \u001b[0m\u001b[38;5;34m929\u001b[0m (3.63 KB)\n"
      ]
     },
     "metadata": {},
     "output_type": "display_data"
    },
    {
     "data": {
      "text/html": [
       "<pre style=\"white-space:pre;overflow-x:auto;line-height:normal;font-family:Menlo,'DejaVu Sans Mono',consolas,'Courier New',monospace\"><span style=\"font-weight: bold\"> Trainable params: </span><span style=\"color: #00af00; text-decoration-color: #00af00\">929</span> (3.63 KB)\n",
       "</pre>\n"
      ],
      "text/plain": [
       "\u001b[1m Trainable params: \u001b[0m\u001b[38;5;34m929\u001b[0m (3.63 KB)\n"
      ]
     },
     "metadata": {},
     "output_type": "display_data"
    },
    {
     "data": {
      "text/html": [
       "<pre style=\"white-space:pre;overflow-x:auto;line-height:normal;font-family:Menlo,'DejaVu Sans Mono',consolas,'Courier New',monospace\"><span style=\"font-weight: bold\"> Non-trainable params: </span><span style=\"color: #00af00; text-decoration-color: #00af00\">0</span> (0.00 B)\n",
       "</pre>\n"
      ],
      "text/plain": [
       "\u001b[1m Non-trainable params: \u001b[0m\u001b[38;5;34m0\u001b[0m (0.00 B)\n"
      ]
     },
     "metadata": {},
     "output_type": "display_data"
    }
   ],
   "source": [
    "network.summary()  # network is a `tensorflow.keras.Model` instance"
   ]
  },
  {
   "cell_type": "markdown",
   "metadata": {},
   "source": [
    "## Run experiment"
   ]
  },
  {
   "cell_type": "code",
   "execution_count": 11,
   "metadata": {},
   "outputs": [
    {
     "name": "stderr",
     "output_type": "stream",
     "text": [
      "2025-02-03 10:57:45,890:Server:INFO: Server is now starting...\n",
      "2025-02-03 10:57:45,899:Server:INFO: server listening on 127.0.0.1:8765\n",
      "2025-02-03 10:57:45,900:Server:INFO: Starting clients registration process.\n",
      "2025-02-03 10:57:46,908:Server:INFO: connection open\n",
      "2025-02-03 10:57:46,909:Server:INFO: New connection from ('127.0.0.1', 53796)\n",
      "2025-02-03 10:57:46,911:Server:INFO: connection open\n",
      "2025-02-03 10:57:46,911:Server:INFO: New connection from ('127.0.0.1', 53797)\n",
      "2025-02-03 10:57:46,912:Server:INFO: connection open\n",
      "2025-02-03 10:57:46,914:Server:INFO: New connection from ('127.0.0.1', 53798)\n",
      "2025-02-03 10:57:46,914:Server:INFO: connection open\n",
      "2025-02-03 10:57:46,915:Server:INFO: New connection from ('127.0.0.1', 53799)\n",
      "2025-02-03 10:57:46,916:Server:INFO: connection open\n",
      "2025-02-03 10:57:46,916:Server:INFO: New connection from ('127.0.0.1', 53800)\n",
      "2025-02-03 10:57:46,921:Server:INFO: Registering client 'client_0' for training.\n",
      "2025-02-03 10:57:46,922:Server:INFO: Registering client 'client_1' for training.\n",
      "2025-02-03 10:57:46,923:Server:INFO: Registering client 'client_2' for training.\n",
      "2025-02-03 10:57:46,924:Server:INFO: Registering client 'client_3' for training.\n",
      "2025-02-03 10:57:46,927:Server:INFO: Registering client 'client_4' for training.\n",
      "2025-02-03 10:57:50,910:Server:INFO: Clients' registration is now complete.\n",
      "2025-02-03 10:57:50,911:Server:INFO: Sending initialization requests to clients.\n",
      "2025-02-03 10:57:51,939:Server:INFO: Waiting for clients' responses.\n",
      "2025-02-03 10:57:51,941:Server:INFO: Initialization was successful.\n",
      "2025-02-03 10:57:51,950:Server:INFO: Initiating training round 1\n",
      "2025-02-03 10:57:52,953:Server:INFO: Awaiting clients' training results.\n",
      "2025-02-03 10:57:52,959:Server:INFO: Conducting server-side optimization.\n",
      "2025-02-03 10:57:52,965:Server:INFO: Initiating evaluation round 1\n",
      "2025-02-03 10:57:53,845:client_0:MAJOR: Local scalar evaluation metrics: {'accuracy': 0.7696245733788396, 'loss': 0.5163579569741727}\n",
      "2025-02-03 10:57:53,937:client_1:MAJOR: Local scalar evaluation metrics: {'accuracy': 0.7781569965870307, 'loss': 0.5136038889657109}\n",
      "2025-02-03 10:57:54,028:client_2:MAJOR: Local scalar evaluation metrics: {'accuracy': 0.7563139931740614, 'loss': 0.5296496919397607}\n",
      "2025-02-03 10:57:54,117:client_3:MAJOR: Local scalar evaluation metrics: {'accuracy': 0.7542662116040956, 'loss': 0.5308443839436098}\n",
      "2025-02-03 10:57:54,207:client_4:MAJOR: Local scalar evaluation metrics: {'accuracy': 0.7457337883959044, 'loss': 0.5335840733791781}\n",
      "2025-02-03 10:57:54,209:Server:INFO: Awaiting clients' evaluation results.\n",
      "2025-02-03 10:57:55,212:Server:INFO: Aggregating evaluation results.\n",
      "2025-02-03 10:57:55,215:Server:INFO: Averaged loss is: 0.5248079990404865\n",
      "2025-02-03 10:57:55,215:Server:INFO: Other averaged scalar metrics are: {'accuracy': 0.7608191126279863, 'loss': 0.5248079990404865}\n",
      "2025-02-03 10:57:55,228:Server:INFO: Initiating training round 2\n",
      "2025-02-03 10:57:56,678:Server:INFO: Awaiting clients' training results.\n",
      "2025-02-03 10:57:57,680:Server:INFO: Conducting server-side optimization.\n",
      "2025-02-03 10:57:57,683:Server:INFO: Initiating evaluation round 2\n",
      "2025-02-03 10:57:58,812:client_0:MAJOR: Local scalar evaluation metrics: {'accuracy': 0.7696245733788396, 'loss': 0.46291654486298156}\n",
      "2025-02-03 10:57:58,902:client_1:MAJOR: Local scalar evaluation metrics: {'accuracy': 0.7781569965870307, 'loss': 0.4651558700681953}\n",
      "2025-02-03 10:57:58,992:client_2:MAJOR: Local scalar evaluation metrics: {'accuracy': 0.7563139931740614, 'loss': 0.4762800263056576}\n",
      "2025-02-03 10:57:58,994:Server:INFO: Awaiting clients' evaluation results.\n",
      "2025-02-03 10:57:59,081:client_3:MAJOR: Local scalar evaluation metrics: {'accuracy': 0.7542662116040956, 'loss': 0.47787363923857235}\n",
      "2025-02-03 10:57:59,171:client_4:MAJOR: Local scalar evaluation metrics: {'accuracy': 0.7457337883959044, 'loss': 0.48296437017339894}\n",
      "2025-02-03 10:57:59,997:Server:INFO: Aggregating evaluation results.\n",
      "2025-02-03 10:58:00,000:Server:INFO: Averaged loss is: 0.47303809012976117\n",
      "2025-02-03 10:58:00,001:Server:INFO: Other averaged scalar metrics are: {'accuracy': 0.7608191126279863, 'loss': 0.47303809012976117}\n",
      "2025-02-03 10:58:00,014:Server:INFO: Initiating training round 3\n",
      "2025-02-03 10:58:01,016:Server:INFO: Awaiting clients' training results.\n",
      "2025-02-03 10:58:01,019:Server:INFO: Conducting server-side optimization.\n",
      "2025-02-03 10:58:01,022:Server:INFO: Initiating evaluation round 3\n",
      "2025-02-03 10:58:01,766:client_0:MAJOR: Local scalar evaluation metrics: {'accuracy': 0.7696245733788396, 'loss': 0.4316294038051631}\n",
      "2025-02-03 10:58:01,859:client_1:MAJOR: Local scalar evaluation metrics: {'accuracy': 0.7781569965870307, 'loss': 0.43751637593878007}\n",
      "2025-02-03 10:58:01,949:client_2:MAJOR: Local scalar evaluation metrics: {'accuracy': 0.7563139931740614, 'loss': 0.445018395018659}\n",
      "2025-02-03 10:58:02,040:client_3:MAJOR: Local scalar evaluation metrics: {'accuracy': 0.7542662116040956, 'loss': 0.4473357142035058}\n",
      "2025-02-03 10:58:02,130:client_4:MAJOR: Local scalar evaluation metrics: {'accuracy': 0.7457337883959044, 'loss': 0.45389243856631856}\n",
      "2025-02-03 10:58:02,133:Server:INFO: Awaiting clients' evaluation results.\n",
      "2025-02-03 10:58:03,135:Server:INFO: Aggregating evaluation results.\n",
      "2025-02-03 10:58:03,138:Server:INFO: Averaged loss is: 0.4430784655064853\n",
      "2025-02-03 10:58:03,139:Server:INFO: Other averaged scalar metrics are: {'accuracy': 0.7608191126279863, 'loss': 0.4430784655064853}\n",
      "2025-02-03 10:58:03,152:Server:INFO: Initiating training round 4\n",
      "2025-02-03 10:58:04,594:Server:INFO: Awaiting clients' training results.\n",
      "2025-02-03 10:58:05,600:Server:INFO: Conducting server-side optimization.\n",
      "2025-02-03 10:58:05,606:Server:INFO: Initiating evaluation round 4\n",
      "2025-02-03 10:58:06,725:client_0:MAJOR: Local scalar evaluation metrics: {'accuracy': 0.7696245733788396, 'loss': 0.4110002671085527}\n",
      "2025-02-03 10:58:06,816:client_1:MAJOR: Local scalar evaluation metrics: {'accuracy': 0.7781569965870307, 'loss': 0.4200486061109211}\n",
      "2025-02-03 10:58:06,905:client_2:MAJOR: Local scalar evaluation metrics: {'accuracy': 0.7563139931740614, 'loss': 0.4245039806024206}\n",
      "2025-02-03 10:58:06,995:client_3:MAJOR: Local scalar evaluation metrics: {'accuracy': 0.7542662116040956, 'loss': 0.4274925718942193}\n",
      "2025-02-03 10:58:07,086:client_4:MAJOR: Local scalar evaluation metrics: {'accuracy': 0.7457337883959044, 'loss': 0.43514684869974546}\n",
      "2025-02-03 10:58:07,089:Server:INFO: Awaiting clients' evaluation results.\n",
      "2025-02-03 10:58:08,092:Server:INFO: Aggregating evaluation results.\n",
      "2025-02-03 10:58:08,095:Server:INFO: Averaged loss is: 0.4236384548831718\n",
      "2025-02-03 10:58:08,095:Server:INFO: Other averaged scalar metrics are: {'accuracy': 0.7608191126279863, 'loss': 0.4236384548831718}\n",
      "2025-02-03 10:58:08,105:Server:INFO: Initiating training round 5\n",
      "2025-02-03 10:58:09,548:Server:INFO: Awaiting clients' training results.\n",
      "2025-02-03 10:58:10,553:Server:INFO: Conducting server-side optimization.\n",
      "2025-02-03 10:58:10,558:Server:INFO: Initiating evaluation round 5\n",
      "2025-02-03 10:58:10,676:client_0:MAJOR: Local scalar evaluation metrics: {'accuracy': 0.7696245733788396, 'loss': 0.3970168900978036}\n",
      "2025-02-03 10:58:10,766:client_1:MAJOR: Local scalar evaluation metrics: {'accuracy': 0.7781569965870307, 'loss': 0.4085858796236865}\n",
      "2025-02-03 10:58:10,855:client_2:MAJOR: Local scalar evaluation metrics: {'accuracy': 0.7563139931740614, 'loss': 0.410686700254577}\n",
      "2025-02-03 10:58:10,946:client_3:MAJOR: Local scalar evaluation metrics: {'accuracy': 0.7542662116040956, 'loss': 0.41433219612661887}\n",
      "2025-02-03 10:58:11,034:client_4:MAJOR: Local scalar evaluation metrics: {'accuracy': 0.7457337883959044, 'loss': 0.42270647970889613}\n",
      "2025-02-03 10:58:11,562:Server:INFO: Awaiting clients' evaluation results.\n",
      "2025-02-03 10:58:11,565:Server:INFO: Aggregating evaluation results.\n",
      "2025-02-03 10:58:11,567:Server:INFO: Averaged loss is: 0.4106656291623164\n",
      "2025-02-03 10:58:11,567:Server:INFO: Other averaged scalar metrics are: {'accuracy': 0.7608191126279863, 'loss': 0.4106656291623164}\n",
      "2025-02-03 10:58:11,577:Server:INFO: Initiating training round 6\n",
      "2025-02-03 10:58:12,579:Server:INFO: Awaiting clients' training results.\n",
      "2025-02-03 10:58:12,580:Server:INFO: Conducting server-side optimization.\n",
      "2025-02-03 10:58:12,583:Server:INFO: Initiating evaluation round 6\n",
      "2025-02-03 10:58:13,619:client_0:MAJOR: Local scalar evaluation metrics: {'accuracy': 0.7696245733788396, 'loss': 0.3870758550057232}\n",
      "2025-02-03 10:58:13,708:client_1:MAJOR: Local scalar evaluation metrics: {'accuracy': 0.7781569965870307, 'loss': 0.4005494304077617}\n",
      "2025-02-03 10:58:13,798:client_2:MAJOR: Local scalar evaluation metrics: {'accuracy': 0.7563139931740614, 'loss': 0.4008247567525089}\n",
      "2025-02-03 10:58:13,887:client_3:MAJOR: Local scalar evaluation metrics: {'accuracy': 0.7542662116040956, 'loss': 0.4051101267744657}\n",
      "2025-02-03 10:58:13,975:client_4:MAJOR: Local scalar evaluation metrics: {'accuracy': 0.7457337883959044, 'loss': 0.41391909024821205}\n",
      "2025-02-03 10:58:13,977:Server:INFO: Awaiting clients' evaluation results.\n",
      "2025-02-03 10:58:14,979:Server:INFO: Aggregating evaluation results.\n",
      "2025-02-03 10:58:14,982:Server:INFO: Averaged loss is: 0.40149585183773434\n",
      "2025-02-03 10:58:14,983:Server:INFO: Other averaged scalar metrics are: {'accuracy': 0.7608191126279863, 'loss': 0.40149585183773434}\n",
      "2025-02-03 10:58:14,992:Server:INFO: Initiating training round 7\n",
      "2025-02-03 10:58:16,427:Server:INFO: Awaiting clients' training results.\n",
      "2025-02-03 10:58:17,431:Server:INFO: Conducting server-side optimization.\n",
      "2025-02-03 10:58:17,438:Server:INFO: Initiating evaluation round 7\n",
      "2025-02-03 10:58:18,556:client_0:MAJOR: Local scalar evaluation metrics: {'accuracy': 0.7696245733788396, 'loss': 0.3797534095142482}\n",
      "2025-02-03 10:58:18,646:client_1:MAJOR: Local scalar evaluation metrics: {'accuracy': 0.7781569965870307, 'loss': 0.3945656383403739}\n",
      "2025-02-03 10:58:18,734:client_2:MAJOR: Local scalar evaluation metrics: {'accuracy': 0.7563139931740614, 'loss': 0.393476043809396}\n",
      "2025-02-03 10:58:18,823:client_3:MAJOR: Local scalar evaluation metrics: {'accuracy': 0.7542662116040956, 'loss': 0.3983822971887556}\n",
      "2025-02-03 10:58:18,913:client_4:MAJOR: Local scalar evaluation metrics: {'accuracy': 0.7457337883959044, 'loss': 0.40736103598981993}\n",
      "2025-02-03 10:58:18,915:Server:INFO: Awaiting clients' evaluation results.\n",
      "2025-02-03 10:58:19,917:Server:INFO: Aggregating evaluation results.\n",
      "2025-02-03 10:58:19,920:Server:INFO: Averaged loss is: 0.3947076849685187\n",
      "2025-02-03 10:58:19,921:Server:INFO: Other averaged scalar metrics are: {'accuracy': 0.7608191126279863, 'loss': 0.3947076849685187}\n",
      "2025-02-03 10:58:19,931:Server:INFO: Initiating training round 8\n",
      "2025-02-03 10:58:21,203:Server:INFO: Awaiting clients' training results.\n",
      "2025-02-03 10:58:22,209:Server:INFO: Conducting server-side optimization.\n",
      "2025-02-03 10:58:22,215:Server:INFO: Initiating evaluation round 8\n",
      "2025-02-03 10:58:22,503:client_0:MAJOR: Local scalar evaluation metrics: {'accuracy': 0.7696245733788396, 'loss': 0.37406455460973975}\n",
      "2025-02-03 10:58:22,590:client_1:MAJOR: Local scalar evaluation metrics: {'accuracy': 0.7781569965870307, 'loss': 0.3898492059609996}\n",
      "2025-02-03 10:58:22,680:client_2:MAJOR: Local scalar evaluation metrics: {'accuracy': 0.7563139931740614, 'loss': 0.3877019762992859}\n",
      "2025-02-03 10:58:22,768:client_3:MAJOR: Local scalar evaluation metrics: {'accuracy': 0.7542662116040956, 'loss': 0.39314200932051946}\n",
      "2025-02-03 10:58:22,855:client_4:MAJOR: Local scalar evaluation metrics: {'accuracy': 0.7457337883959044, 'loss': 0.4021273895538708}\n",
      "2025-02-03 10:58:23,219:Server:INFO: Awaiting clients' evaluation results.\n",
      "2025-02-03 10:58:23,222:Server:INFO: Aggregating evaluation results.\n",
      "2025-02-03 10:58:23,223:Server:INFO: Averaged loss is: 0.3893770271488831\n",
      "2025-02-03 10:58:23,224:Server:INFO: Other averaged scalar metrics are: {'accuracy': 0.7608191126279863, 'loss': 0.3893770271488831}\n",
      "2025-02-03 10:58:23,233:Server:INFO: Initiating training round 9\n",
      "2025-02-03 10:58:24,321:Server:INFO: Awaiting clients' training results.\n",
      "2025-02-03 10:58:25,326:Server:INFO: Conducting server-side optimization.\n",
      "2025-02-03 10:58:25,332:Server:INFO: Initiating evaluation round 9\n",
      "2025-02-03 10:58:26,449:client_0:MAJOR: Local scalar evaluation metrics: {'accuracy': 0.7696245733788396, 'loss': 0.36951638058387376}\n",
      "2025-02-03 10:58:26,539:client_1:MAJOR: Local scalar evaluation metrics: {'accuracy': 0.7781569965870307, 'loss': 0.38591303613812444}\n",
      "2025-02-03 10:58:26,633:client_2:MAJOR: Local scalar evaluation metrics: {'accuracy': 0.7563139931740614, 'loss': 0.3830031764792094}\n",
      "2025-02-03 10:58:26,724:client_3:MAJOR: Local scalar evaluation metrics: {'accuracy': 0.7542662116040956, 'loss': 0.3888583407060278}\n",
      "2025-02-03 10:58:26,814:client_4:MAJOR: Local scalar evaluation metrics: {'accuracy': 0.7457337883959044, 'loss': 0.39773853677531557}\n",
      "2025-02-03 10:58:26,817:Server:INFO: Awaiting clients' evaluation results.\n",
      "2025-02-03 10:58:27,819:Server:INFO: Aggregating evaluation results.\n",
      "2025-02-03 10:58:27,822:Server:INFO: Averaged loss is: 0.3850058941365102\n",
      "2025-02-03 10:58:27,823:Server:INFO: Other averaged scalar metrics are: {'accuracy': 0.7608191126279863, 'loss': 0.3850058941365102}\n",
      "2025-02-03 10:58:27,835:Server:INFO: Initiating training round 10\n",
      "2025-02-03 10:58:29,279:Server:INFO: Awaiting clients' training results.\n",
      "2025-02-03 10:58:30,285:Server:INFO: Conducting server-side optimization.\n",
      "2025-02-03 10:58:30,291:Server:INFO: Initiating evaluation round 10\n",
      "2025-02-03 10:58:31,406:client_0:MAJOR: Local scalar evaluation metrics: {'accuracy': 0.7696245733788396, 'loss': 0.36566270484045504}\n",
      "2025-02-03 10:58:31,497:client_1:MAJOR: Local scalar evaluation metrics: {'accuracy': 0.7781569965870307, 'loss': 0.38246591701442473}\n",
      "2025-02-03 10:58:31,584:client_2:MAJOR: Local scalar evaluation metrics: {'accuracy': 0.7563139931740614, 'loss': 0.37898591010236904}\n",
      "2025-02-03 10:58:31,673:client_3:MAJOR: Local scalar evaluation metrics: {'accuracy': 0.7542662116040956, 'loss': 0.38516604257525033}\n",
      "2025-02-03 10:58:31,763:client_4:MAJOR: Local scalar evaluation metrics: {'accuracy': 0.7457337883959044, 'loss': 0.39387138064810845}\n",
      "2025-02-03 10:58:31,765:Server:INFO: Awaiting clients' evaluation results.\n",
      "2025-02-03 10:58:32,768:Server:INFO: Aggregating evaluation results.\n",
      "2025-02-03 10:58:32,770:Server:INFO: Averaged loss is: 0.3812303910361215\n",
      "2025-02-03 10:58:32,771:Server:INFO: Other averaged scalar metrics are: {'accuracy': 0.7608191126279863, 'loss': 0.3812303910361215}\n",
      "2025-02-03 10:58:32,781:Server:INFO: Maximum number of training rounds reached.\n",
      "2025-02-03 10:58:32,782:Server:INFO: Stopping training.\n",
      "2025-02-03 10:58:32,783:Server:INFO: Recovering weights that yielded the lowest loss.\n",
      "2025-02-03 10:58:32,784:Server:INFO: Notifying clients that training is over.\n",
      "2025-02-03 10:58:33,794:Server:INFO: Checkpointing final weights under ./results/server/model_state_best.json.\n",
      "2025-02-03 10:58:33,797:Server:INFO: server closing\n",
      "2025-02-03 10:58:33,799:Server:INFO: connection closed\n",
      "2025-02-03 10:58:33,799:Server:INFO: connection closed\n",
      "2025-02-03 10:58:33,800:Server:INFO: connection closed\n",
      "2025-02-03 10:58:33,800:Server:INFO: connection closed\n",
      "2025-02-03 10:58:33,801:Server:INFO: connection closed\n",
      "2025-02-03 10:58:33,801:Server:INFO: server closed\n"
     ]
    }
   ],
   "source": [
    "await quickrun(config=\"config.toml\")"
   ]
  },
  {
   "cell_type": "markdown",
   "metadata": {},
   "source": [
    "## Results"
   ]
  },
  {
   "cell_type": "code",
   "execution_count": 12,
   "metadata": {},
   "outputs": [
    {
     "data": {
      "text/html": [
       "<div>\n",
       "<style scoped>\n",
       "    .dataframe tbody tr th:only-of-type {\n",
       "        vertical-align: middle;\n",
       "    }\n",
       "\n",
       "    .dataframe tbody tr th {\n",
       "        vertical-align: top;\n",
       "    }\n",
       "\n",
       "    .dataframe thead th {\n",
       "        text-align: right;\n",
       "    }\n",
       "</style>\n",
       "<table border=\"1\" class=\"dataframe\">\n",
       "  <thead>\n",
       "    <tr style=\"text-align: right;\">\n",
       "      <th></th>\n",
       "      <th>timestamp</th>\n",
       "      <th>accuracy</th>\n",
       "      <th>loss</th>\n",
       "    </tr>\n",
       "  </thead>\n",
       "  <tbody>\n",
       "    <tr>\n",
       "      <th>0</th>\n",
       "      <td>25-02-03_10-57-55</td>\n",
       "      <td>0.760819</td>\n",
       "      <td>0.524808</td>\n",
       "    </tr>\n",
       "    <tr>\n",
       "      <th>1</th>\n",
       "      <td>25-02-03_10-58-00</td>\n",
       "      <td>0.760819</td>\n",
       "      <td>0.473038</td>\n",
       "    </tr>\n",
       "    <tr>\n",
       "      <th>2</th>\n",
       "      <td>25-02-03_10-58-03</td>\n",
       "      <td>0.760819</td>\n",
       "      <td>0.443078</td>\n",
       "    </tr>\n",
       "    <tr>\n",
       "      <th>3</th>\n",
       "      <td>25-02-03_10-58-08</td>\n",
       "      <td>0.760819</td>\n",
       "      <td>0.423638</td>\n",
       "    </tr>\n",
       "    <tr>\n",
       "      <th>4</th>\n",
       "      <td>25-02-03_10-58-11</td>\n",
       "      <td>0.760819</td>\n",
       "      <td>0.410666</td>\n",
       "    </tr>\n",
       "  </tbody>\n",
       "</table>\n",
       "</div>"
      ],
      "text/plain": [
       "           timestamp  accuracy      loss\n",
       "0  25-02-03_10-57-55  0.760819  0.524808\n",
       "1  25-02-03_10-58-00  0.760819  0.473038\n",
       "2  25-02-03_10-58-03  0.760819  0.443078\n",
       "3  25-02-03_10-58-08  0.760819  0.423638\n",
       "4  25-02-03_10-58-11  0.760819  0.410666"
      ]
     },
     "execution_count": 12,
     "metadata": {},
     "output_type": "execute_result"
    }
   ],
   "source": [
    "res = pd.read_csv(\"results/server/metrics.csv\")\n",
    "res.head()"
   ]
  },
  {
   "cell_type": "code",
   "execution_count": 13,
   "metadata": {},
   "outputs": [
    {
     "data": {
      "image/png": "[encoded data removed]",
      "text/plain": [
       "<Figure size 640x480 with 1 Axes>"
      ]
     },
     "metadata": {},
     "output_type": "display_data"
    }
   ],
   "source": [
    "res_fig = res.plot()"
   ]
  }
 ],
 "metadata": {
  "kernelspec": {
   "display_name": ".venv",
   "language": "python",
   "name": "python3"
  },
  "language_info": {
   "codemirror_mode": {
    "name": "ipython",
    "version": 3
   },
   "file_extension": ".py",
   "mimetype": "text/x-python",
   "name": "python",
   "nbconvert_exporter": "python",
   "pygments_lexer": "ipython3",
   "version": "3.11.11"
  }
 },
 "nbformat": 4,
 "nbformat_minor": 2
}
